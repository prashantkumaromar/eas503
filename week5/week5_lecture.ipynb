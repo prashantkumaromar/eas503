{
 "cells": [
  {
   "cell_type": "code",
   "execution_count": 2,
   "id": "568f3501",
   "metadata": {},
   "outputs": [
    {
     "data": {
      "text/plain": [
       "[1, 4, 9]"
      ]
     },
     "execution_count": 2,
     "metadata": {},
     "output_type": "execute_result"
    }
   ],
   "source": [
    "my_list = [1, 2, 3]\n",
    "new_list = []\n",
    "for ele in my_list:\n",
    "    tmp = ele * ele\n",
    "    new_list.append(tmp)\n",
    "new_list"
   ]
  },
  {
   "cell_type": "code",
   "execution_count": 3,
   "id": "f7f8829f",
   "metadata": {},
   "outputs": [],
   "source": [
    "# [ f(ele) for ele in sequence ]\n",
    "\n",
    "l2 = [ele*ele for ele in my_list]"
   ]
  },
  {
   "cell_type": "code",
   "execution_count": 4,
   "id": "a82d3d38",
   "metadata": {},
   "outputs": [
    {
     "name": "stdout",
     "output_type": "stream",
     "text": [
      "[1, 4, 9]\n"
     ]
    }
   ],
   "source": [
    "print(l2)"
   ]
  },
  {
   "cell_type": "code",
   "execution_count": 6,
   "id": "9b886a80",
   "metadata": {},
   "outputs": [
    {
     "name": "stdout",
     "output_type": "stream",
     "text": [
      "[1, 4, 9]\n"
     ]
    }
   ],
   "source": [
    "def mul2(ele):\n",
    "    return ele * ele\n",
    "\n",
    "l2 = [mul2(ele) for ele in my_list]\n",
    "print(l2)"
   ]
  },
  {
   "cell_type": "code",
   "execution_count": 7,
   "id": "5926e8f2",
   "metadata": {},
   "outputs": [
    {
     "name": "stdout",
     "output_type": "stream",
     "text": [
      "[1, 1, 1]\n"
     ]
    }
   ],
   "source": [
    "l2 = [1 for ele in my_list]\n",
    "print(l2)"
   ]
  },
  {
   "cell_type": "code",
   "execution_count": 8,
   "id": "a04d4dde",
   "metadata": {},
   "outputs": [
    {
     "name": "stdout",
     "output_type": "stream",
     "text": [
      "[1, 1, 1, 1, 1, 1, 1, 1, 1, 1, 1, 1, 1, 1, 1, 1, 1, 1, 1, 1, 1, 1, 1, 1, 1, 1, 1, 1, 1, 1, 1, 1, 1, 1, 1, 1, 1, 1, 1, 1, 1, 1, 1, 1, 1, 1, 1, 1, 1, 1, 1, 1, 1, 1, 1, 1, 1, 1, 1, 1, 1, 1, 1, 1, 1, 1, 1, 1, 1, 1, 1, 1, 1, 1, 1, 1, 1, 1, 1, 1, 1, 1, 1, 1, 1, 1, 1, 1, 1, 1, 1, 1, 1, 1, 1, 1, 1, 1, 1, 1]\n"
     ]
    }
   ],
   "source": [
    "l2 = [1 for ele in range(100)]\n",
    "print(l2)"
   ]
  },
  {
   "cell_type": "code",
   "execution_count": 9,
   "id": "2f477106",
   "metadata": {},
   "outputs": [
    {
     "data": {
      "text/plain": [
       "[1,\n",
       " 1,\n",
       " 1,\n",
       " 1,\n",
       " 1,\n",
       " 1,\n",
       " 1,\n",
       " 1,\n",
       " 1,\n",
       " 1,\n",
       " 1,\n",
       " 1,\n",
       " 1,\n",
       " 1,\n",
       " 1,\n",
       " 1,\n",
       " 1,\n",
       " 1,\n",
       " 1,\n",
       " 1,\n",
       " 1,\n",
       " 1,\n",
       " 1,\n",
       " 1,\n",
       " 1,\n",
       " 1,\n",
       " 1,\n",
       " 1,\n",
       " 1,\n",
       " 1,\n",
       " 1,\n",
       " 1,\n",
       " 1,\n",
       " 1,\n",
       " 1,\n",
       " 1,\n",
       " 1,\n",
       " 1,\n",
       " 1,\n",
       " 1,\n",
       " 1,\n",
       " 1,\n",
       " 1,\n",
       " 1,\n",
       " 1,\n",
       " 1,\n",
       " 1,\n",
       " 1,\n",
       " 1,\n",
       " 1,\n",
       " 1,\n",
       " 1,\n",
       " 1,\n",
       " 1,\n",
       " 1,\n",
       " 1,\n",
       " 1,\n",
       " 1,\n",
       " 1,\n",
       " 1,\n",
       " 1,\n",
       " 1,\n",
       " 1,\n",
       " 1,\n",
       " 1,\n",
       " 1,\n",
       " 1,\n",
       " 1,\n",
       " 1,\n",
       " 1,\n",
       " 1,\n",
       " 1,\n",
       " 1,\n",
       " 1,\n",
       " 1,\n",
       " 1,\n",
       " 1,\n",
       " 1,\n",
       " 1,\n",
       " 1,\n",
       " 1,\n",
       " 1,\n",
       " 1,\n",
       " 1,\n",
       " 1,\n",
       " 1,\n",
       " 1,\n",
       " 1,\n",
       " 1,\n",
       " 1,\n",
       " 1,\n",
       " 1,\n",
       " 1,\n",
       " 1,\n",
       " 1,\n",
       " 1,\n",
       " 1,\n",
       " 1,\n",
       " 1,\n",
       " 1]"
      ]
     },
     "execution_count": 9,
     "metadata": {},
     "output_type": "execute_result"
    }
   ],
   "source": [
    "[1] * 100"
   ]
  },
  {
   "cell_type": "code",
   "execution_count": 11,
   "id": "3b51c2e0",
   "metadata": {},
   "outputs": [
    {
     "data": {
      "text/plain": [
       "['B', 'U', 'F', 'F', 'A', 'L', 'O']"
      ]
     },
     "execution_count": 11,
     "metadata": {},
     "output_type": "execute_result"
    }
   ],
   "source": [
    "animal = 'buffalo'\n",
    "[char.upper() for char in animal]"
   ]
  },
  {
   "cell_type": "code",
   "execution_count": 12,
   "id": "bd58d4c9",
   "metadata": {},
   "outputs": [
    {
     "data": {
      "text/plain": [
       "'BUFFALO'"
      ]
     },
     "execution_count": 12,
     "metadata": {},
     "output_type": "execute_result"
    }
   ],
   "source": [
    "animal.upper()"
   ]
  },
  {
   "cell_type": "code",
   "execution_count": 13,
   "id": "838f2c4e",
   "metadata": {},
   "outputs": [
    {
     "data": {
      "text/plain": [
       "'BUFFALO'"
      ]
     },
     "execution_count": 13,
     "metadata": {},
     "output_type": "execute_result"
    }
   ],
   "source": [
    "''.join([char.upper() for char in animal])"
   ]
  },
  {
   "cell_type": "code",
   "execution_count": 14,
   "id": "dc319206",
   "metadata": {},
   "outputs": [
    {
     "data": {
      "text/plain": [
       "'B, U, F, F, A, L, O'"
      ]
     },
     "execution_count": 14,
     "metadata": {},
     "output_type": "execute_result"
    }
   ],
   "source": [
    "', '.join([char.upper() for char in animal])"
   ]
  },
  {
   "cell_type": "code",
   "execution_count": 15,
   "id": "4b7ab947",
   "metadata": {},
   "outputs": [
    {
     "data": {
      "text/plain": [
       "['John', 'Jane', 'Doe']"
      ]
     },
     "execution_count": 15,
     "metadata": {},
     "output_type": "execute_result"
    }
   ],
   "source": [
    "students = ['john', 'jane', 'doe']\n",
    "[student[0].upper() + student[1:] for student in students]"
   ]
  },
  {
   "cell_type": "code",
   "execution_count": 16,
   "id": "1d2a0c9b",
   "metadata": {},
   "outputs": [
    {
     "name": "stdout",
     "output_type": "stream",
     "text": [
      "['John', 'Jane', 'Doe']\n"
     ]
    }
   ],
   "source": [
    "print([student.title() for student in students])"
   ]
  },
  {
   "cell_type": "code",
   "execution_count": 17,
   "id": "6bef3f00",
   "metadata": {},
   "outputs": [
    {
     "data": {
      "text/plain": [
       "['John', 'Jane', 'Doe']"
      ]
     },
     "execution_count": 17,
     "metadata": {},
     "output_type": "execute_result"
    }
   ],
   "source": [
    "[\n",
    "    student[0].upper() + student[1:] \n",
    "    for student in students\n",
    "]"
   ]
  },
  {
   "cell_type": "code",
   "execution_count": 18,
   "id": "f03584f2",
   "metadata": {},
   "outputs": [],
   "source": [
    "my_list = [0, '', []]"
   ]
  },
  {
   "cell_type": "code",
   "execution_count": 19,
   "id": "13c21d97",
   "metadata": {},
   "outputs": [
    {
     "data": {
      "text/plain": [
       "[False, False, False]"
      ]
     },
     "execution_count": 19,
     "metadata": {},
     "output_type": "execute_result"
    }
   ],
   "source": [
    "[bool(ele) for ele in my_list]"
   ]
  },
  {
   "cell_type": "code",
   "execution_count": 20,
   "id": "7cfdeba2",
   "metadata": {},
   "outputs": [],
   "source": [
    "my_list = range(6)"
   ]
  },
  {
   "cell_type": "code",
   "execution_count": 21,
   "id": "7419e255",
   "metadata": {},
   "outputs": [
    {
     "data": {
      "text/plain": [
       "['0', '1', '2', '3', '4', '5']"
      ]
     },
     "execution_count": 21,
     "metadata": {},
     "output_type": "execute_result"
    }
   ],
   "source": [
    "[str(ele) for ele in my_list]"
   ]
  },
  {
   "cell_type": "code",
   "execution_count": 22,
   "id": "9975bbd4",
   "metadata": {},
   "outputs": [],
   "source": [
    "x = 'John,84,34,56,90'\n",
    "name, *grades = x.split(',')"
   ]
  },
  {
   "cell_type": "code",
   "execution_count": 23,
   "id": "57eca13d",
   "metadata": {},
   "outputs": [
    {
     "name": "stdout",
     "output_type": "stream",
     "text": [
      "John ['84', '34', '56', '90']\n"
     ]
    }
   ],
   "source": [
    "print(name, grades)"
   ]
  },
  {
   "cell_type": "code",
   "execution_count": 24,
   "id": "6e3154f9",
   "metadata": {},
   "outputs": [
    {
     "data": {
      "text/plain": [
       "[84, 34, 56, 90]"
      ]
     },
     "execution_count": 24,
     "metadata": {},
     "output_type": "execute_result"
    }
   ],
   "source": [
    "[int(grade) for grade in grades]"
   ]
  },
  {
   "cell_type": "code",
   "execution_count": 25,
   "id": "1209bb73",
   "metadata": {},
   "outputs": [],
   "source": [
    "tmp = []\n",
    "for grade in grades:\n",
    "    tmp.append(int(grade))"
   ]
  },
  {
   "cell_type": "code",
   "execution_count": 26,
   "id": "2c043373",
   "metadata": {},
   "outputs": [
    {
     "data": {
      "text/plain": [
       "[84, 34, 56, 90]"
      ]
     },
     "execution_count": 26,
     "metadata": {},
     "output_type": "execute_result"
    }
   ],
   "source": [
    "tmp"
   ]
  },
  {
   "cell_type": "code",
   "execution_count": 28,
   "id": "d0fb80f4",
   "metadata": {},
   "outputs": [
    {
     "name": "stdout",
     "output_type": "stream",
     "text": [
      "[2, 4, 6, 8, 10, 12, 14, 16, 18, 20]\n"
     ]
    }
   ],
   "source": [
    "numbers = range(1, 21)\n",
    "even = [number for number in numbers if number % 2 == 0]\n",
    "print(even)"
   ]
  },
  {
   "cell_type": "code",
   "execution_count": 29,
   "id": "239fca9b",
   "metadata": {},
   "outputs": [
    {
     "name": "stdout",
     "output_type": "stream",
     "text": [
      "[1, 3, 5, 7, 9, 11, 13, 15, 17, 19]\n"
     ]
    }
   ],
   "source": [
    "even = [number for number in numbers if number % 2 != 0]\n",
    "print(even)"
   ]
  },
  {
   "cell_type": "code",
   "execution_count": 30,
   "id": "476c520c",
   "metadata": {},
   "outputs": [
    {
     "data": {
      "text/plain": [
       "[0, 1, 2, 27, 4, 125, 6, 343, 8, 729]"
      ]
     },
     "execution_count": 30,
     "metadata": {},
     "output_type": "execute_result"
    }
   ],
   "source": [
    "numbers = range(10)\n",
    "[number if number % 2 == 0 else number**3 for number in numbers]"
   ]
  },
  {
   "cell_type": "code",
   "execution_count": 32,
   "id": "ba9c6e8a",
   "metadata": {},
   "outputs": [
    {
     "data": {
      "text/plain": [
       "' rlly wnt t g t wrk'"
      ]
     },
     "execution_count": 32,
     "metadata": {},
     "output_type": "execute_result"
    }
   ],
   "source": [
    "sentence = 'I rEAlly want to gO to work'\n",
    "''.join([char for char in sentence if char.lower() not in 'aeiou'])"
   ]
  },
  {
   "cell_type": "code",
   "execution_count": 37,
   "id": "8e340fea",
   "metadata": {},
   "outputs": [
    {
     "name": "stdout",
     "output_type": "stream",
     "text": [
      "0\n",
      "5\n",
      "10\n",
      "15\n",
      "20\n"
     ]
    }
   ],
   "source": [
    "x = ( ele*5 for ele in range(5) )\n",
    "\n",
    "for ele in x:\n",
    "    print(ele)"
   ]
  },
  {
   "cell_type": "code",
   "execution_count": 38,
   "id": "934fc246",
   "metadata": {},
   "outputs": [
    {
     "name": "stdout",
     "output_type": "stream",
     "text": [
      "0\n",
      "5\n",
      "10\n",
      "15\n",
      "20\n",
      "0\n",
      "5\n",
      "10\n",
      "15\n",
      "20\n"
     ]
    }
   ],
   "source": [
    "x = list(( ele*5 for ele in range(5) ))\n",
    "for ele in x:\n",
    "    print(ele)\n",
    "for ele in x:\n",
    "    print(ele)"
   ]
  },
  {
   "cell_type": "code",
   "execution_count": 35,
   "id": "4a43c362",
   "metadata": {},
   "outputs": [],
   "source": [
    "for ele in x:\n",
    "    print(ele)"
   ]
  },
  {
   "cell_type": "code",
   "execution_count": null,
   "id": "e32a087b",
   "metadata": {},
   "outputs": [],
   "source": []
  },
  {
   "cell_type": "code",
   "execution_count": 36,
   "id": "3be824eb",
   "metadata": {},
   "outputs": [],
   "source": [
    "x = []\n",
    "for ele in x:\n",
    "    print(ele)"
   ]
  },
  {
   "cell_type": "code",
   "execution_count": 39,
   "id": "658ce8d9",
   "metadata": {},
   "outputs": [],
   "source": [
    "large_string = \"Cristiano Ronaldo\tNationality=Portugal;National_Position=LS;National_Kit=7.0;Club=Real Madrid;Club_Position=LW;Club_Kit=7.0;Club_Joining=07/01/2009;Contract_Expiry=2021.0;Rating=94;Height=185 cm;Weight=80 kg;Preferred_Foot=Right;Birth_Date=02/05/1985;Age=32;Preferred_Position=LW/ST;Work_Rate=High / Low;Weak_foot=4;Skill_Moves=5;Ball_Control=93;Dribbling=92;Marking=22;Sliding_Tackle=23;Standing_Tackle=31;Aggression=63;Reactions=96;Attacking_Position=94;Interceptions=29;Vision=85;Composure=86;Crossing=84;Short_Pass=83;Long_Pass=77;Acceleration=91;Speed=92;Stamina=92;Strength=80;Balance=63;Agility=90;Jumping=95;Heading=85;Shot_Power=92;Finishing=93;Long_Shots=90;Curve=81;Freekick_Accuracy=76;Penalties=85;Volleys=88;GK_Positioning=14;GK_Diving=7;GK_Kicking=15;GK_Handling=11;GK_Reflexes=11\""
   ]
  },
  {
   "cell_type": "code",
   "execution_count": 40,
   "id": "ef6f5fe3",
   "metadata": {},
   "outputs": [],
   "source": [
    "name, large = large_string.split('\\t')"
   ]
  },
  {
   "cell_type": "code",
   "execution_count": 41,
   "id": "5e790817",
   "metadata": {},
   "outputs": [
    {
     "name": "stdout",
     "output_type": "stream",
     "text": [
      "Cristiano Ronaldo\n"
     ]
    }
   ],
   "source": [
    "print(name)"
   ]
  },
  {
   "cell_type": "code",
   "execution_count": 42,
   "id": "3fda6c2b",
   "metadata": {},
   "outputs": [
    {
     "name": "stdout",
     "output_type": "stream",
     "text": [
      "Nationality=Portugal;National_Position=LS;National_Kit=7.0;Club=Real Madrid;Club_Position=LW;Club_Kit=7.0;Club_Joining=07/01/2009;Contract_Expiry=2021.0;Rating=94;Height=185 cm;Weight=80 kg;Preferred_Foot=Right;Birth_Date=02/05/1985;Age=32;Preferred_Position=LW/ST;Work_Rate=High / Low;Weak_foot=4;Skill_Moves=5;Ball_Control=93;Dribbling=92;Marking=22;Sliding_Tackle=23;Standing_Tackle=31;Aggression=63;Reactions=96;Attacking_Position=94;Interceptions=29;Vision=85;Composure=86;Crossing=84;Short_Pass=83;Long_Pass=77;Acceleration=91;Speed=92;Stamina=92;Strength=80;Balance=63;Agility=90;Jumping=95;Heading=85;Shot_Power=92;Finishing=93;Long_Shots=90;Curve=81;Freekick_Accuracy=76;Penalties=85;Volleys=88;GK_Positioning=14;GK_Diving=7;GK_Kicking=15;GK_Handling=11;GK_Reflexes=11\n"
     ]
    }
   ],
   "source": [
    "print(large)"
   ]
  },
  {
   "cell_type": "code",
   "execution_count": 53,
   "id": "797f3072",
   "metadata": {},
   "outputs": [],
   "source": [
    "keys = []\n",
    "values = []\n",
    "int_types = ['Weak_foot', 'Skill_Moves', 'Ball_Control', 'Dribbling', 'Marking', 'Sliding_Tackle', 'Standing_Tackle', 'Aggression', 'Reactions', 'Attacking_Position', 'Interceptions', 'Vision', 'Composure', 'Crossing', 'Short_Pass', 'Long_Pass', 'Acceleration', 'Speed', 'Stamina', 'Strength', 'Balance', 'Agility', 'Jumping', 'Heading', 'Shot_Power', 'Finishing', 'Long_Shots', 'Curve', 'Freekick_Accuracy', 'Penalties', 'Volleys', 'GK_Positioning', 'GK_Diving', 'GK_Kicking', 'GK_Handling', 'GK_Reflexes']\n",
    "float_types\n",
    "for ele in large.split(';'):\n",
    "    key, value = ele.split('=')\n",
    "    keys.append(key)\n",
    "    if key in int_types:\n",
    "        values.append(int(value))\n",
    "    else:\n",
    "        values.append(value)"
   ]
  },
  {
   "cell_type": "code",
   "execution_count": 54,
   "id": "772b6d9a",
   "metadata": {},
   "outputs": [
    {
     "name": "stdout",
     "output_type": "stream",
     "text": [
      "['Nationality', 'National_Position', 'National_Kit', 'Club', 'Club_Position', 'Club_Kit', 'Club_Joining', 'Contract_Expiry', 'Rating', 'Height', 'Weight', 'Preferred_Foot', 'Birth_Date', 'Age', 'Preferred_Position', 'Work_Rate', 'Weak_foot', 'Skill_Moves', 'Ball_Control', 'Dribbling', 'Marking', 'Sliding_Tackle', 'Standing_Tackle', 'Aggression', 'Reactions', 'Attacking_Position', 'Interceptions', 'Vision', 'Composure', 'Crossing', 'Short_Pass', 'Long_Pass', 'Acceleration', 'Speed', 'Stamina', 'Strength', 'Balance', 'Agility', 'Jumping', 'Heading', 'Shot_Power', 'Finishing', 'Long_Shots', 'Curve', 'Freekick_Accuracy', 'Penalties', 'Volleys', 'GK_Positioning', 'GK_Diving', 'GK_Kicking', 'GK_Handling', 'GK_Reflexes']\n"
     ]
    }
   ],
   "source": [
    "print(keys)"
   ]
  },
  {
   "cell_type": "code",
   "execution_count": 55,
   "id": "070b19ed",
   "metadata": {},
   "outputs": [
    {
     "name": "stdout",
     "output_type": "stream",
     "text": [
      "['Portugal', 'LS', '7.0', 'Real Madrid', 'LW', '7.0', '07/01/2009', '2021.0', '94', '185 cm', '80 kg', 'Right', '02/05/1985', '32', 'LW/ST', 'High / Low', 4, 5, 93, 92, 22, 23, 31, 63, 96, 94, 29, 85, 86, 84, 83, 77, 91, 92, 92, 80, 63, 90, 95, 85, 92, 93, 90, 81, 76, 85, 88, 14, 7, 15, 11, 11]\n"
     ]
    }
   ],
   "source": [
    "print(values)"
   ]
  },
  {
   "cell_type": "code",
   "execution_count": null,
   "id": "a62b40e6",
   "metadata": {},
   "outputs": [],
   "source": [
    "days_in_months = [0, 31, 28, 31, 30, 31, 30, 31, 31, 30, 31, 30, 31] "
   ]
  },
  {
   "cell_type": "code",
   "execution_count": 56,
   "id": "e5d0d667",
   "metadata": {},
   "outputs": [
    {
     "data": {
      "text/plain": [
       "(('John Doe', 'jdoe@buffalo.edu', 11223344, 'Biology'),\n",
       " ('Jane Doe', 'jane@buffalo.edu', 22334455, 'Chemistry'))"
      ]
     },
     "execution_count": 56,
     "metadata": {},
     "output_type": "execute_result"
    }
   ],
   "source": [
    "(\n",
    "    ('John Doe', 'jdoe@buffalo.edu', 11223344, 'Biology'),\n",
    "    ('Jane Doe', 'jane@buffalo.edu', 22334455, 'Chemistry'),\n",
    ")"
   ]
  },
  {
   "cell_type": "code",
   "execution_count": 57,
   "id": "b41d9843",
   "metadata": {},
   "outputs": [],
   "source": [
    "days_in_months = {\n",
    "    'Jan': 31,\n",
    "    'Feb': (28,29),\n",
    "    'Mar': 31,\n",
    "    'Apr': 30,\n",
    "    'May': 31,\n",
    "    'Jun': 30,\n",
    "    'Jul': 31,\n",
    "    'Aug': 31,\n",
    "    'Sep': 30,\n",
    "    'Oct': 31,\n",
    "    'Nov': 30,\n",
    "    'Dec': 31,\n",
    "}"
   ]
  },
  {
   "cell_type": "code",
   "execution_count": 58,
   "id": "091b611a",
   "metadata": {},
   "outputs": [],
   "source": [
    "days_in_months = {\n",
    "    1: 31,\n",
    "    2: (28,29),\n",
    "    3: 31,\n",
    "    4: 30,\n",
    "    5: 31,\n",
    "    6: 30,\n",
    "    7: 31,\n",
    "    8: 31,\n",
    "    9: 30,\n",
    "    10: 31,\n",
    "    11: 30,\n",
    "    12: 31,\n",
    "}"
   ]
  },
  {
   "cell_type": "code",
   "execution_count": 60,
   "id": "7bd7ff69",
   "metadata": {},
   "outputs": [
    {
     "data": {
      "text/plain": [
       "31"
      ]
     },
     "execution_count": 60,
     "metadata": {},
     "output_type": "execute_result"
    }
   ],
   "source": [
    "days_in_months[5]"
   ]
  },
  {
   "cell_type": "code",
   "execution_count": 61,
   "id": "67e555e3",
   "metadata": {},
   "outputs": [
    {
     "data": {
      "text/plain": [
       "({'Name': 'John Doe',\n",
       "  'Email': 'jdoe@buffalo.edu',\n",
       "  'ID': 11223344,\n",
       "  'Major': 'Biology'},\n",
       " {'Name': 'Jane Doe',\n",
       "  'Email': 'Jane@buffalo.edu',\n",
       "  'ID': 22334455,\n",
       "  'Major': 'Chemistry'})"
      ]
     },
     "execution_count": 61,
     "metadata": {},
     "output_type": "execute_result"
    }
   ],
   "source": [
    "(\n",
    "    {\n",
    "        'Name': 'John Doe', \n",
    "        'Email': 'jdoe@buffalo.edu',\n",
    "        'ID': 11223344, \n",
    "        'Major': 'Biology'\n",
    "    },\n",
    "    {\n",
    "        'Name': 'Jane Doe', \n",
    "        'Email': 'Jane@buffalo.edu',\n",
    "        'ID': 22334455, \n",
    "        'Major': 'Chemistry'\n",
    "    },\n",
    ")"
   ]
  },
  {
   "cell_type": "code",
   "execution_count": 62,
   "id": "b350cda7",
   "metadata": {},
   "outputs": [
    {
     "name": "stdout",
     "output_type": "stream",
     "text": [
      "{1: True, 'F': False, 2: 3}\n",
      "1 True\n",
      "F False\n",
      "2 3\n"
     ]
    }
   ],
   "source": [
    "x = {1: True, 'F': False, 2:3}\n",
    "print(x)\n",
    "for key, value in x.items():\n",
    "    print(key, value)"
   ]
  },
  {
   "cell_type": "code",
   "execution_count": 63,
   "id": "d3aca551",
   "metadata": {},
   "outputs": [
    {
     "data": {
      "text/plain": [
       "{'1': 1}"
      ]
     },
     "execution_count": 63,
     "metadata": {},
     "output_type": "execute_result"
    }
   ],
   "source": [
    "# What can be keys?\n",
    "# immutable: str, tuple, int, float, frozenset\n",
    "\n",
    "{'1': 1}"
   ]
  },
  {
   "cell_type": "code",
   "execution_count": 64,
   "id": "e5e13c57",
   "metadata": {},
   "outputs": [
    {
     "data": {
      "text/plain": [
       "{(1, 2): 1}"
      ]
     },
     "execution_count": 64,
     "metadata": {},
     "output_type": "execute_result"
    }
   ],
   "source": [
    "\n",
    "{(1,2): 1}"
   ]
  },
  {
   "cell_type": "code",
   "execution_count": 65,
   "id": "3ea2fe6e",
   "metadata": {},
   "outputs": [
    {
     "ename": "TypeError",
     "evalue": "unhashable type: 'list'",
     "output_type": "error",
     "traceback": [
      "\u001b[1;31m---------------------------------------------------------------------------\u001b[0m",
      "\u001b[1;31mTypeError\u001b[0m                                 Traceback (most recent call last)",
      "\u001b[1;32m~\\AppData\\Local\\Temp\\ipykernel_8472\\1289384886.py\u001b[0m in \u001b[0;36m<module>\u001b[1;34m\u001b[0m\n\u001b[1;32m----> 1\u001b[1;33m \u001b[1;33m{\u001b[0m\u001b[1;33m[\u001b[0m\u001b[1;36m1\u001b[0m\u001b[1;33m,\u001b[0m\u001b[1;36m2\u001b[0m\u001b[1;33m]\u001b[0m\u001b[1;33m:\u001b[0m \u001b[1;36m1\u001b[0m\u001b[1;33m}\u001b[0m\u001b[1;33m\u001b[0m\u001b[1;33m\u001b[0m\u001b[0m\n\u001b[0m",
      "\u001b[1;31mTypeError\u001b[0m: unhashable type: 'list'"
     ]
    }
   ],
   "source": [
    "\n",
    "{[1,2]: 1}"
   ]
  },
  {
   "cell_type": "code",
   "execution_count": 66,
   "id": "606aa1d8",
   "metadata": {},
   "outputs": [
    {
     "data": {
      "text/plain": [
       "{1: 1}"
      ]
     },
     "execution_count": 66,
     "metadata": {},
     "output_type": "execute_result"
    }
   ],
   "source": [
    "{1: 1}"
   ]
  },
  {
   "cell_type": "code",
   "execution_count": 67,
   "id": "ac30db04",
   "metadata": {},
   "outputs": [
    {
     "data": {
      "text/plain": [
       "{3.14: 1}"
      ]
     },
     "execution_count": 67,
     "metadata": {},
     "output_type": "execute_result"
    }
   ],
   "source": [
    "{3.14: 1}"
   ]
  },
  {
   "cell_type": "code",
   "execution_count": 68,
   "id": "0b1ecadf",
   "metadata": {},
   "outputs": [
    {
     "data": {
      "text/plain": [
       "{True: 1}"
      ]
     },
     "execution_count": 68,
     "metadata": {},
     "output_type": "execute_result"
    }
   ],
   "source": [
    "{True: 1}"
   ]
  },
  {
   "cell_type": "code",
   "execution_count": 69,
   "id": "59ea6411",
   "metadata": {},
   "outputs": [
    {
     "ename": "SyntaxError",
     "evalue": "invalid syntax (296176515.py, line 4)",
     "output_type": "error",
     "traceback": [
      "\u001b[1;36m  File \u001b[1;32m\"C:\\Users\\mkhaw\\AppData\\Local\\Temp\\ipykernel_8472\\296176515.py\"\u001b[1;36m, line \u001b[1;32m4\u001b[0m\n\u001b[1;33m    'id': 1234,\u001b[0m\n\u001b[1;37m        ^\u001b[0m\n\u001b[1;31mSyntaxError\u001b[0m\u001b[1;31m:\u001b[0m invalid syntax\n"
     ]
    }
   ],
   "source": [
    "my_dict = {\n",
    "    'name': 'john',\n",
    "    'email': 'john@email.com',\n",
    "    'id': 1234,\n",
    "    'major': 'Engineering'\n",
    "}"
   ]
  },
  {
   "cell_type": "code",
   "execution_count": 71,
   "id": "5fde2124",
   "metadata": {},
   "outputs": [
    {
     "ename": "SyntaxError",
     "evalue": "invalid syntax (454533866.py, line 6)",
     "output_type": "error",
     "traceback": [
      "\u001b[1;36m  File \u001b[1;32m\"C:\\Users\\mkhaw\\AppData\\Local\\Temp\\ipykernel_8472\\454533866.py\"\u001b[1;36m, line \u001b[1;32m6\u001b[0m\n\u001b[1;33m    'year': 2024\u001b[0m\n\u001b[1;37m          ^\u001b[0m\n\u001b[1;31mSyntaxError\u001b[0m\u001b[1;31m:\u001b[0m invalid syntax\n"
     ]
    }
   ],
   "source": [
    "my_dict = {\n",
    "    'name': 'john',\n",
    "    'email': 'john@email.com',\n",
    "    'id': 1234,\n",
    "    'major': 'Engineering',\n",
    "    'year': 2024,\n",
    "}"
   ]
  },
  {
   "cell_type": "code",
   "execution_count": null,
   "id": "cee771af",
   "metadata": {},
   "outputs": [],
   "source": [
    "[1, 2, 3, ]"
   ]
  },
  {
   "cell_type": "code",
   "execution_count": 72,
   "id": "14f2045a",
   "metadata": {},
   "outputs": [
    {
     "data": {
      "text/plain": [
       "{'name': 'john', 'email': 'john@email.com', 'id': 1234, 'major': 'Engineering'}"
      ]
     },
     "execution_count": 72,
     "metadata": {},
     "output_type": "execute_result"
    }
   ],
   "source": [
    "dict(\n",
    "    name='john',\n",
    "    email='john@email.com',\n",
    "    id=1234,\n",
    "    major='Engineering'\n",
    ")"
   ]
  },
  {
   "cell_type": "code",
   "execution_count": 73,
   "id": "5e5d82ac",
   "metadata": {},
   "outputs": [
    {
     "data": {
      "text/plain": [
       "['Nationality',\n",
       " 'National_Position',\n",
       " 'National_Kit',\n",
       " 'Club',\n",
       " 'Club_Position',\n",
       " 'Club_Kit',\n",
       " 'Club_Joining',\n",
       " 'Contract_Expiry',\n",
       " 'Rating',\n",
       " 'Height',\n",
       " 'Weight',\n",
       " 'Preferred_Foot',\n",
       " 'Birth_Date',\n",
       " 'Age',\n",
       " 'Preferred_Position',\n",
       " 'Work_Rate',\n",
       " 'Weak_foot',\n",
       " 'Skill_Moves',\n",
       " 'Ball_Control',\n",
       " 'Dribbling',\n",
       " 'Marking',\n",
       " 'Sliding_Tackle',\n",
       " 'Standing_Tackle',\n",
       " 'Aggression',\n",
       " 'Reactions',\n",
       " 'Attacking_Position',\n",
       " 'Interceptions',\n",
       " 'Vision',\n",
       " 'Composure',\n",
       " 'Crossing',\n",
       " 'Short_Pass',\n",
       " 'Long_Pass',\n",
       " 'Acceleration',\n",
       " 'Speed',\n",
       " 'Stamina',\n",
       " 'Strength',\n",
       " 'Balance',\n",
       " 'Agility',\n",
       " 'Jumping',\n",
       " 'Heading',\n",
       " 'Shot_Power',\n",
       " 'Finishing',\n",
       " 'Long_Shots',\n",
       " 'Curve',\n",
       " 'Freekick_Accuracy',\n",
       " 'Penalties',\n",
       " 'Volleys',\n",
       " 'GK_Positioning',\n",
       " 'GK_Diving',\n",
       " 'GK_Kicking',\n",
       " 'GK_Handling',\n",
       " 'GK_Reflexes']"
      ]
     },
     "execution_count": 73,
     "metadata": {},
     "output_type": "execute_result"
    }
   ],
   "source": [
    "keys"
   ]
  },
  {
   "cell_type": "code",
   "execution_count": 74,
   "id": "09ec7ace",
   "metadata": {},
   "outputs": [
    {
     "data": {
      "text/plain": [
       "['Portugal',\n",
       " 'LS',\n",
       " '7.0',\n",
       " 'Real Madrid',\n",
       " 'LW',\n",
       " '7.0',\n",
       " '07/01/2009',\n",
       " '2021.0',\n",
       " '94',\n",
       " '185 cm',\n",
       " '80 kg',\n",
       " 'Right',\n",
       " '02/05/1985',\n",
       " '32',\n",
       " 'LW/ST',\n",
       " 'High / Low',\n",
       " 4,\n",
       " 5,\n",
       " 93,\n",
       " 92,\n",
       " 22,\n",
       " 23,\n",
       " 31,\n",
       " 63,\n",
       " 96,\n",
       " 94,\n",
       " 29,\n",
       " 85,\n",
       " 86,\n",
       " 84,\n",
       " 83,\n",
       " 77,\n",
       " 91,\n",
       " 92,\n",
       " 92,\n",
       " 80,\n",
       " 63,\n",
       " 90,\n",
       " 95,\n",
       " 85,\n",
       " 92,\n",
       " 93,\n",
       " 90,\n",
       " 81,\n",
       " 76,\n",
       " 85,\n",
       " 88,\n",
       " 14,\n",
       " 7,\n",
       " 15,\n",
       " 11,\n",
       " 11]"
      ]
     },
     "execution_count": 74,
     "metadata": {},
     "output_type": "execute_result"
    }
   ],
   "source": [
    "values"
   ]
  },
  {
   "cell_type": "code",
   "execution_count": 75,
   "id": "add87f74",
   "metadata": {},
   "outputs": [
    {
     "name": "stdout",
     "output_type": "stream",
     "text": [
      "{'Nationality': 'Portugal', 'National_Position': 'LS', 'National_Kit': '7.0', 'Club': 'Real Madrid', 'Club_Position': 'LW', 'Club_Kit': '7.0', 'Club_Joining': '07/01/2009', 'Contract_Expiry': '2021.0', 'Rating': '94', 'Height': '185 cm', 'Weight': '80 kg', 'Preferred_Foot': 'Right', 'Birth_Date': '02/05/1985', 'Age': '32', 'Preferred_Position': 'LW/ST', 'Work_Rate': 'High / Low', 'Weak_foot': 4, 'Skill_Moves': 5, 'Ball_Control': 93, 'Dribbling': 92, 'Marking': 22, 'Sliding_Tackle': 23, 'Standing_Tackle': 31, 'Aggression': 63, 'Reactions': 96, 'Attacking_Position': 94, 'Interceptions': 29, 'Vision': 85, 'Composure': 86, 'Crossing': 84, 'Short_Pass': 83, 'Long_Pass': 77, 'Acceleration': 91, 'Speed': 92, 'Stamina': 92, 'Strength': 80, 'Balance': 63, 'Agility': 90, 'Jumping': 95, 'Heading': 85, 'Shot_Power': 92, 'Finishing': 93, 'Long_Shots': 90, 'Curve': 81, 'Freekick_Accuracy': 76, 'Penalties': 85, 'Volleys': 88, 'GK_Positioning': 14, 'GK_Diving': 7, 'GK_Kicking': 15, 'GK_Handling': 11, 'GK_Reflexes': 11}\n"
     ]
    }
   ],
   "source": [
    "my_dict = {}\n",
    "for k, v in zip(keys, values):\n",
    "    my_dict[k] = v\n",
    "    \n",
    "print(my_dict)\n",
    "    "
   ]
  },
  {
   "cell_type": "code",
   "execution_count": 76,
   "id": "286db8cb",
   "metadata": {},
   "outputs": [
    {
     "name": "stdout",
     "output_type": "stream",
     "text": [
      "{'Acceleration': 91,\n",
      " 'Age': '32',\n",
      " 'Aggression': 63,\n",
      " 'Agility': 90,\n",
      " 'Attacking_Position': 94,\n",
      " 'Balance': 63,\n",
      " 'Ball_Control': 93,\n",
      " 'Birth_Date': '02/05/1985',\n",
      " 'Club': 'Real Madrid',\n",
      " 'Club_Joining': '07/01/2009',\n",
      " 'Club_Kit': '7.0',\n",
      " 'Club_Position': 'LW',\n",
      " 'Composure': 86,\n",
      " 'Contract_Expiry': '2021.0',\n",
      " 'Crossing': 84,\n",
      " 'Curve': 81,\n",
      " 'Dribbling': 92,\n",
      " 'Finishing': 93,\n",
      " 'Freekick_Accuracy': 76,\n",
      " 'GK_Diving': 7,\n",
      " 'GK_Handling': 11,\n",
      " 'GK_Kicking': 15,\n",
      " 'GK_Positioning': 14,\n",
      " 'GK_Reflexes': 11,\n",
      " 'Heading': 85,\n",
      " 'Height': '185 cm',\n",
      " 'Interceptions': 29,\n",
      " 'Jumping': 95,\n",
      " 'Long_Pass': 77,\n",
      " 'Long_Shots': 90,\n",
      " 'Marking': 22,\n",
      " 'National_Kit': '7.0',\n",
      " 'National_Position': 'LS',\n",
      " 'Nationality': 'Portugal',\n",
      " 'Penalties': 85,\n",
      " 'Preferred_Foot': 'Right',\n",
      " 'Preferred_Position': 'LW/ST',\n",
      " 'Rating': '94',\n",
      " 'Reactions': 96,\n",
      " 'Short_Pass': 83,\n",
      " 'Shot_Power': 92,\n",
      " 'Skill_Moves': 5,\n",
      " 'Sliding_Tackle': 23,\n",
      " 'Speed': 92,\n",
      " 'Stamina': 92,\n",
      " 'Standing_Tackle': 31,\n",
      " 'Strength': 80,\n",
      " 'Vision': 85,\n",
      " 'Volleys': 88,\n",
      " 'Weak_foot': 4,\n",
      " 'Weight': '80 kg',\n",
      " 'Work_Rate': 'High / Low'}\n"
     ]
    }
   ],
   "source": [
    "from pprint import pprint\n",
    "pprint(my_dict)"
   ]
  },
  {
   "cell_type": "code",
   "execution_count": 78,
   "id": "5271e491",
   "metadata": {},
   "outputs": [
    {
     "data": {
      "text/plain": [
       "{'Nationality': 'Portugal',\n",
       " 'National_Position': 'LS',\n",
       " 'National_Kit': '7.0',\n",
       " 'Club': 'Real Madrid',\n",
       " 'Club_Position': 'LW',\n",
       " 'Club_Kit': '7.0',\n",
       " 'Club_Joining': '07/01/2009',\n",
       " 'Contract_Expiry': '2021.0',\n",
       " 'Rating': '94',\n",
       " 'Height': '185 cm',\n",
       " 'Weight': '80 kg',\n",
       " 'Preferred_Foot': 'Right',\n",
       " 'Birth_Date': '02/05/1985',\n",
       " 'Age': '32',\n",
       " 'Preferred_Position': 'LW/ST',\n",
       " 'Work_Rate': 'High / Low',\n",
       " 'Weak_foot': 4,\n",
       " 'Skill_Moves': 5,\n",
       " 'Ball_Control': 93,\n",
       " 'Dribbling': 92,\n",
       " 'Marking': 22,\n",
       " 'Sliding_Tackle': 23,\n",
       " 'Standing_Tackle': 31,\n",
       " 'Aggression': 63,\n",
       " 'Reactions': 96,\n",
       " 'Attacking_Position': 94,\n",
       " 'Interceptions': 29,\n",
       " 'Vision': 85,\n",
       " 'Composure': 86,\n",
       " 'Crossing': 84,\n",
       " 'Short_Pass': 83,\n",
       " 'Long_Pass': 77,\n",
       " 'Acceleration': 91,\n",
       " 'Speed': 92,\n",
       " 'Stamina': 92,\n",
       " 'Strength': 80,\n",
       " 'Balance': 63,\n",
       " 'Agility': 90,\n",
       " 'Jumping': 95,\n",
       " 'Heading': 85,\n",
       " 'Shot_Power': 92,\n",
       " 'Finishing': 93,\n",
       " 'Long_Shots': 90,\n",
       " 'Curve': 81,\n",
       " 'Freekick_Accuracy': 76,\n",
       " 'Penalties': 85,\n",
       " 'Volleys': 88,\n",
       " 'GK_Positioning': 14,\n",
       " 'GK_Diving': 7,\n",
       " 'GK_Kicking': 15,\n",
       " 'GK_Handling': 11,\n",
       " 'GK_Reflexes': 11}"
      ]
     },
     "execution_count": 78,
     "metadata": {},
     "output_type": "execute_result"
    }
   ],
   "source": [
    "dict(zip(keys,values))"
   ]
  },
  {
   "cell_type": "code",
   "execution_count": 80,
   "id": "42c9d011",
   "metadata": {},
   "outputs": [
    {
     "data": {
      "text/plain": [
       "{1: 2, 3: 4}"
      ]
     },
     "execution_count": 80,
     "metadata": {},
     "output_type": "execute_result"
    }
   ],
   "source": [
    "dict(((1,2), (3,4)))"
   ]
  },
  {
   "cell_type": "code",
   "execution_count": 81,
   "id": "18168e10",
   "metadata": {},
   "outputs": [
    {
     "data": {
      "text/plain": [
       "{'Nationality': 'Portugal',\n",
       " 'National_Position': 'LS',\n",
       " 'National_Kit': '7.0',\n",
       " 'Club': 'Real Madrid',\n",
       " 'Club_Position': 'LW',\n",
       " 'Club_Kit': '7.0',\n",
       " 'Club_Joining': '07/01/2009',\n",
       " 'Contract_Expiry': '2021.0',\n",
       " 'Rating': '94',\n",
       " 'Height': '185 cm',\n",
       " 'Weight': '80 kg',\n",
       " 'Preferred_Foot': 'Right',\n",
       " 'Birth_Date': '02/05/1985',\n",
       " 'Age': '32',\n",
       " 'Preferred_Position': 'LW/ST',\n",
       " 'Work_Rate': 'High / Low',\n",
       " 'Weak_foot': 4,\n",
       " 'Skill_Moves': 5,\n",
       " 'Ball_Control': 93,\n",
       " 'Dribbling': 92,\n",
       " 'Marking': 22,\n",
       " 'Sliding_Tackle': 23,\n",
       " 'Standing_Tackle': 31,\n",
       " 'Aggression': 63,\n",
       " 'Reactions': 96,\n",
       " 'Attacking_Position': 94,\n",
       " 'Interceptions': 29,\n",
       " 'Vision': 85,\n",
       " 'Composure': 86,\n",
       " 'Crossing': 84,\n",
       " 'Short_Pass': 83,\n",
       " 'Long_Pass': 77,\n",
       " 'Acceleration': 91,\n",
       " 'Speed': 92,\n",
       " 'Stamina': 92,\n",
       " 'Strength': 80,\n",
       " 'Balance': 63,\n",
       " 'Agility': 90,\n",
       " 'Jumping': 95,\n",
       " 'Heading': 85,\n",
       " 'Shot_Power': 92,\n",
       " 'Finishing': 93,\n",
       " 'Long_Shots': 90,\n",
       " 'Curve': 81,\n",
       " 'Freekick_Accuracy': 76,\n",
       " 'Penalties': 85,\n",
       " 'Volleys': 88,\n",
       " 'GK_Positioning': 14,\n",
       " 'GK_Diving': 7,\n",
       " 'GK_Kicking': 15,\n",
       " 'GK_Handling': 11,\n",
       " 'GK_Reflexes': 11}"
      ]
     },
     "execution_count": 81,
     "metadata": {},
     "output_type": "execute_result"
    }
   ],
   "source": [
    "my_dict"
   ]
  },
  {
   "cell_type": "code",
   "execution_count": 83,
   "id": "44941955",
   "metadata": {},
   "outputs": [
    {
     "name": "stdout",
     "output_type": "stream",
     "text": [
      "Portugal\n",
      "LS\n",
      "7.0\n",
      "Real Madrid\n",
      "LW\n",
      "7.0\n",
      "07/01/2009\n",
      "2021.0\n",
      "94\n",
      "185 cm\n",
      "80 kg\n",
      "Right\n",
      "02/05/1985\n",
      "32\n",
      "LW/ST\n",
      "High / Low\n",
      "4\n",
      "5\n",
      "93\n",
      "92\n",
      "22\n",
      "23\n",
      "31\n",
      "63\n",
      "96\n",
      "94\n",
      "29\n",
      "85\n",
      "86\n",
      "84\n",
      "83\n",
      "77\n",
      "91\n",
      "92\n",
      "92\n",
      "80\n",
      "63\n",
      "90\n",
      "95\n",
      "85\n",
      "92\n",
      "93\n",
      "90\n",
      "81\n",
      "76\n",
      "85\n",
      "88\n",
      "14\n",
      "7\n",
      "15\n",
      "11\n",
      "11\n"
     ]
    }
   ],
   "source": [
    "for key in keys:\n",
    "    print(my_dict[key])"
   ]
  },
  {
   "cell_type": "code",
   "execution_count": 84,
   "id": "d8c51038",
   "metadata": {},
   "outputs": [
    {
     "name": "stdout",
     "output_type": "stream",
     "text": [
      "john\n",
      "john@email.com\n",
      "1234\n",
      "Engineering\n"
     ]
    }
   ],
   "source": [
    "my_dict = {\n",
    "    'name': 'john',\n",
    "    'email': 'john@email.com',\n",
    "    'id': 1234,\n",
    "    'major': 'Engineering'\n",
    "}\n",
    "for value in my_dict.values():\n",
    "    print(value)"
   ]
  },
  {
   "cell_type": "code",
   "execution_count": 85,
   "id": "2e204561",
   "metadata": {},
   "outputs": [
    {
     "name": "stdout",
     "output_type": "stream",
     "text": [
      "name\n",
      "email\n",
      "id\n",
      "major\n"
     ]
    }
   ],
   "source": [
    "my_dict = {\n",
    "    'name': 'john',\n",
    "    'email': 'john@email.com',\n",
    "    'id': 1234,\n",
    "    'major': 'Engineering'\n",
    "}\n",
    "for key in my_dict.keys():\n",
    "    print(key)"
   ]
  },
  {
   "cell_type": "code",
   "execution_count": 86,
   "id": "d031da88",
   "metadata": {},
   "outputs": [
    {
     "name": "stdout",
     "output_type": "stream",
     "text": [
      "key is name and value is john\n",
      "key is email and value is john@email.com\n",
      "key is id and value is 1234\n",
      "key is major and value is Engineering\n"
     ]
    }
   ],
   "source": [
    "my_dict = {\n",
    "    'name': 'john',\n",
    "    'email': 'john@email.com',\n",
    "    'id': 1234,\n",
    "    'major': 'Engineering'\n",
    "}\n",
    "for key, value in my_dict.items():\n",
    "    print(f'key is {key} and value is {value}')"
   ]
  },
  {
   "cell_type": "code",
   "execution_count": 87,
   "id": "afa4e6ba",
   "metadata": {},
   "outputs": [
    {
     "data": {
      "text/plain": [
       "{'name': 'john', 'email': 'john@email.com', 'id': 1234, 'major': 'Engineering'}"
      ]
     },
     "execution_count": 87,
     "metadata": {},
     "output_type": "execute_result"
    }
   ],
   "source": [
    "my_dict"
   ]
  },
  {
   "cell_type": "code",
   "execution_count": 88,
   "id": "59a91e1d",
   "metadata": {},
   "outputs": [
    {
     "data": {
      "text/plain": [
       "True"
      ]
     },
     "execution_count": 88,
     "metadata": {},
     "output_type": "execute_result"
    }
   ],
   "source": [
    "'name' in my_dict"
   ]
  },
  {
   "cell_type": "code",
   "execution_count": 89,
   "id": "74afcd9a",
   "metadata": {},
   "outputs": [
    {
     "data": {
      "text/plain": [
       "True"
      ]
     },
     "execution_count": 89,
     "metadata": {},
     "output_type": "execute_result"
    }
   ],
   "source": [
    "'name' in my_dict.keys()"
   ]
  },
  {
   "cell_type": "code",
   "execution_count": 91,
   "id": "61dd6373",
   "metadata": {},
   "outputs": [],
   "source": [
    "x = [1, 2, 3]\n",
    "y = x.copy()"
   ]
  },
  {
   "cell_type": "code",
   "execution_count": 92,
   "id": "80d1bdd6",
   "metadata": {},
   "outputs": [
    {
     "name": "stdout",
     "output_type": "stream",
     "text": [
      "[1, 3, 3] [1, 2, 3]\n"
     ]
    }
   ],
   "source": [
    "x[1] = 3\n",
    "print(x,y)"
   ]
  },
  {
   "cell_type": "code",
   "execution_count": 93,
   "id": "45b8c824",
   "metadata": {},
   "outputs": [],
   "source": [
    "x = [1, 2, 3, [4, 5, 6]]\n",
    "y = x.copy()"
   ]
  },
  {
   "cell_type": "code",
   "execution_count": 94,
   "id": "e3197caa",
   "metadata": {},
   "outputs": [
    {
     "name": "stdout",
     "output_type": "stream",
     "text": [
      "[1, 2, 3, [4, 5, 6, 7]] [1, 2, 3, [4, 5, 6, 7]]\n"
     ]
    }
   ],
   "source": [
    "x[3].append(7)\n",
    "print(x,y)"
   ]
  },
  {
   "cell_type": "code",
   "execution_count": 95,
   "id": "519f04e7",
   "metadata": {},
   "outputs": [
    {
     "name": "stdout",
     "output_type": "stream",
     "text": [
      "[1, 2, 3, [4, 5, 6, 7, 8]] [1, 2, 3, [4, 5, 6, 7, 8]]\n"
     ]
    }
   ],
   "source": [
    "z = x[:]\n",
    "x[3].append(8)\n",
    "print(x, z)"
   ]
  },
  {
   "cell_type": "code",
   "execution_count": 96,
   "id": "2514fa94",
   "metadata": {},
   "outputs": [
    {
     "name": "stdout",
     "output_type": "stream",
     "text": [
      "[1, 2, 3, [4, 5, 6, 7, 8, 8]] [1, 2, 3, [4, 5, 6, 7, 8, 8]] [1, 2, 3, [4, 5, 6, 7, 8, 8]] [1, 2, 3, [4, 5, 6, 7, 8]]\n"
     ]
    }
   ],
   "source": [
    "import copy\n",
    "\n",
    "v = copy.deepcopy(x)\n",
    "x[3].append(8)\n",
    "print(x, y, z, v)"
   ]
  },
  {
   "cell_type": "code",
   "execution_count": 97,
   "id": "2b3fd63a",
   "metadata": {},
   "outputs": [
    {
     "name": "stdout",
     "output_type": "stream",
     "text": [
      "{1: False, 2: [3, 4, 5]} {1: True, 2: [3, 4, 5]}\n"
     ]
    }
   ],
   "source": [
    "x = {1: True, 2: [3, 4, 5]}\n",
    "y = x.copy()\n",
    "x[1] = False\n",
    "print(x, y)"
   ]
  },
  {
   "cell_type": "code",
   "execution_count": 98,
   "id": "74cb08ab",
   "metadata": {},
   "outputs": [
    {
     "name": "stdout",
     "output_type": "stream",
     "text": [
      "{1: True, 2: [3, 4, 5, 6]} {1: True, 2: [3, 4, 5, 6]}\n"
     ]
    }
   ],
   "source": [
    "x = {1: True, 2: [3, 4, 5]}\n",
    "y = x.copy()\n",
    "x[2].append(6)\n",
    "print(x, y)"
   ]
  },
  {
   "cell_type": "code",
   "execution_count": 99,
   "id": "874b5f1a",
   "metadata": {},
   "outputs": [
    {
     "name": "stdout",
     "output_type": "stream",
     "text": [
      "{1: True, 2: [3, 4, 5, 6]} {1: True, 2: [3, 4, 5]}\n"
     ]
    }
   ],
   "source": [
    "import copy\n",
    "x = {1: True, 2: [3, 4, 5]}\n",
    "y = copy.deepcopy(x)\n",
    "x[2].append(6)\n",
    "print(x, y)"
   ]
  },
  {
   "cell_type": "code",
   "execution_count": 100,
   "id": "2162a4a4",
   "metadata": {},
   "outputs": [],
   "source": [
    "new_student = {}.fromkeys(\n",
    "    ['name', 'email', 'id', 'major'], 'missing')"
   ]
  },
  {
   "cell_type": "code",
   "execution_count": 101,
   "id": "279b9db3",
   "metadata": {},
   "outputs": [
    {
     "data": {
      "text/plain": [
       "{'name': 'missing', 'email': 'missing', 'id': 'missing', 'major': 'missing'}"
      ]
     },
     "execution_count": 101,
     "metadata": {},
     "output_type": "execute_result"
    }
   ],
   "source": [
    "new_student"
   ]
  },
  {
   "cell_type": "code",
   "execution_count": 102,
   "id": "f529e980",
   "metadata": {},
   "outputs": [],
   "source": [
    "\n",
    "my_dict = {}.fromkeys(range(5), 'iammissing')"
   ]
  },
  {
   "cell_type": "code",
   "execution_count": 103,
   "id": "591b32a8",
   "metadata": {},
   "outputs": [
    {
     "data": {
      "text/plain": [
       "{0: 'iammissing',\n",
       " 1: 'iammissing',\n",
       " 2: 'iammissing',\n",
       " 3: 'iammissing',\n",
       " 4: 'iammissing'}"
      ]
     },
     "execution_count": 103,
     "metadata": {},
     "output_type": "execute_result"
    }
   ],
   "source": [
    "my_dict"
   ]
  },
  {
   "cell_type": "code",
   "execution_count": 104,
   "id": "bccda61b",
   "metadata": {},
   "outputs": [
    {
     "ename": "KeyError",
     "evalue": "'Name'",
     "output_type": "error",
     "traceback": [
      "\u001b[1;31m---------------------------------------------------------------------------\u001b[0m",
      "\u001b[1;31mKeyError\u001b[0m                                  Traceback (most recent call last)",
      "\u001b[1;32m~\\AppData\\Local\\Temp\\ipykernel_8472\\1813956264.py\u001b[0m in \u001b[0;36m<module>\u001b[1;34m\u001b[0m\n\u001b[0;32m      5\u001b[0m     \u001b[1;34m'major'\u001b[0m\u001b[1;33m:\u001b[0m \u001b[1;34m'Engineering'\u001b[0m\u001b[1;33m\u001b[0m\u001b[1;33m\u001b[0m\u001b[0m\n\u001b[0;32m      6\u001b[0m }\n\u001b[1;32m----> 7\u001b[1;33m \u001b[0mmy_dict\u001b[0m\u001b[1;33m[\u001b[0m\u001b[1;34m'Name'\u001b[0m\u001b[1;33m]\u001b[0m\u001b[1;33m\u001b[0m\u001b[1;33m\u001b[0m\u001b[0m\n\u001b[0m",
      "\u001b[1;31mKeyError\u001b[0m: 'Name'"
     ]
    }
   ],
   "source": [
    "my_dict = {\n",
    "    'name': 'john',\n",
    "    'email': 'john@email.com',\n",
    "    'id': 1234,\n",
    "    'major': 'Engineering'\n",
    "}\n",
    "my_dict['Name']"
   ]
  },
  {
   "cell_type": "code",
   "execution_count": 106,
   "id": "f9bf451a",
   "metadata": {},
   "outputs": [],
   "source": [
    "if my_dict.get('Name'):\n",
    "    print(my_dict.get('Name'))"
   ]
  },
  {
   "cell_type": "code",
   "execution_count": 107,
   "id": "567d5576",
   "metadata": {},
   "outputs": [
    {
     "name": "stdout",
     "output_type": "stream",
     "text": [
      "john\n"
     ]
    }
   ],
   "source": [
    "if my_dict.get('name'):\n",
    "    print(my_dict.get('name'))"
   ]
  },
  {
   "cell_type": "code",
   "execution_count": 108,
   "id": "da3eaedf",
   "metadata": {},
   "outputs": [],
   "source": [
    "my_dict = {'Name': 0}\n",
    "if my_dict.get('Name'):\n",
    "    print(my_dict.get('Name'))"
   ]
  },
  {
   "cell_type": "code",
   "execution_count": null,
   "id": "dacc938c",
   "metadata": {},
   "outputs": [],
   "source": []
  }
 ],
 "metadata": {
  "kernelspec": {
   "display_name": "Python 3 (ipykernel)",
   "language": "python",
   "name": "python3"
  },
  "language_info": {
   "codemirror_mode": {
    "name": "ipython",
    "version": 3
   },
   "file_extension": ".py",
   "mimetype": "text/x-python",
   "name": "python",
   "nbconvert_exporter": "python",
   "pygments_lexer": "ipython3",
   "version": "3.9.13"
  }
 },
 "nbformat": 4,
 "nbformat_minor": 5
}
