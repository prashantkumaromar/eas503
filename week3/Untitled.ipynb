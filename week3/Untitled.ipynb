{
 "cells": [
  {
   "cell_type": "code",
   "execution_count": 1,
   "id": "966f6a85",
   "metadata": {},
   "outputs": [],
   "source": [
    "x = 1\n",
    "y = 2\n",
    "\n",
    "y, x = x, y"
   ]
  },
  {
   "cell_type": "code",
   "execution_count": 2,
   "id": "3faa46c5",
   "metadata": {},
   "outputs": [
    {
     "name": "stdout",
     "output_type": "stream",
     "text": [
      "2 1\n"
     ]
    }
   ],
   "source": [
    "print(x, y)"
   ]
  },
  {
   "cell_type": "code",
   "execution_count": 3,
   "id": "726ed692",
   "metadata": {},
   "outputs": [
    {
     "data": {
      "text/plain": [
       "13.75"
      ]
     },
     "execution_count": 3,
     "metadata": {},
     "output_type": "execute_result"
    }
   ],
   "source": [
    "5/4*(2+9)"
   ]
  },
  {
   "cell_type": "code",
   "execution_count": 4,
   "id": "c2c1d4fa",
   "metadata": {},
   "outputs": [
    {
     "data": {
      "text/plain": [
       "11"
      ]
     },
     "execution_count": 4,
     "metadata": {},
     "output_type": "execute_result"
    }
   ],
   "source": [
    "5--6"
   ]
  },
  {
   "cell_type": "code",
   "execution_count": 5,
   "id": "dbaa1be6",
   "metadata": {},
   "outputs": [
    {
     "data": {
      "text/plain": [
       "'PI 3 3.140000'"
      ]
     },
     "execution_count": 5,
     "metadata": {},
     "output_type": "execute_result"
    }
   ],
   "source": [
    "'%s %d %f' % ('PI', 3, 3.14)"
   ]
  },
  {
   "cell_type": "code",
   "execution_count": 6,
   "id": "0b82c983",
   "metadata": {},
   "outputs": [
    {
     "ename": "TypeError",
     "evalue": "%d format: a number is required, not str",
     "output_type": "error",
     "traceback": [
      "\u001b[1;31m---------------------------------------------------------------------------\u001b[0m",
      "\u001b[1;31mTypeError\u001b[0m                                 Traceback (most recent call last)",
      "\u001b[1;32m~\\AppData\\Local\\Temp\\ipykernel_22524\\903156456.py\u001b[0m in \u001b[0;36m<module>\u001b[1;34m\u001b[0m\n\u001b[1;32m----> 1\u001b[1;33m \u001b[1;34m'%d %d %f'\u001b[0m \u001b[1;33m%\u001b[0m \u001b[1;33m(\u001b[0m\u001b[1;34m'PI'\u001b[0m\u001b[1;33m,\u001b[0m \u001b[1;36m3\u001b[0m\u001b[1;33m,\u001b[0m \u001b[1;36m3.14\u001b[0m\u001b[1;33m)\u001b[0m\u001b[1;33m\u001b[0m\u001b[1;33m\u001b[0m\u001b[0m\n\u001b[0m",
      "\u001b[1;31mTypeError\u001b[0m: %d format: a number is required, not str"
     ]
    }
   ],
   "source": [
    "'%d %d %f' % ('PI', 3, 3.14)"
   ]
  },
  {
   "cell_type": "code",
   "execution_count": 16,
   "id": "27b59ea6",
   "metadata": {},
   "outputs": [],
   "source": [
    "str_template = '{1}, {0}'"
   ]
  },
  {
   "cell_type": "code",
   "execution_count": 17,
   "id": "ca59832b",
   "metadata": {},
   "outputs": [
    {
     "data": {
      "text/plain": [
       "'PI, 3'"
      ]
     },
     "execution_count": 17,
     "metadata": {},
     "output_type": "execute_result"
    }
   ],
   "source": [
    "str_template.format(3, 'PI')"
   ]
  },
  {
   "cell_type": "code",
   "execution_count": 9,
   "id": "ea0b5893",
   "metadata": {},
   "outputs": [
    {
     "data": {
      "text/plain": [
       "'BAT, PI'"
      ]
     },
     "execution_count": 9,
     "metadata": {},
     "output_type": "execute_result"
    }
   ],
   "source": [
    "str_template.format('BAT', 'PI')"
   ]
  },
  {
   "cell_type": "code",
   "execution_count": null,
   "id": "88a604f0",
   "metadata": {},
   "outputs": [],
   "source": [
    "Over here format is function?\n",
    "and str_template.format() is method?\n",
    "also, what is data type of 3 here?"
   ]
  },
  {
   "cell_type": "code",
   "execution_count": 10,
   "id": "3380e47e",
   "metadata": {},
   "outputs": [
    {
     "data": {
      "text/plain": [
       "'{}, {}'"
      ]
     },
     "execution_count": 10,
     "metadata": {},
     "output_type": "execute_result"
    }
   ],
   "source": [
    "str_template"
   ]
  },
  {
   "cell_type": "code",
   "execution_count": null,
   "id": "4aa3a5e9",
   "metadata": {},
   "outputs": [],
   "source": [
    "str_template.format()"
   ]
  },
  {
   "cell_type": "code",
   "execution_count": 11,
   "id": "e75293d5",
   "metadata": {},
   "outputs": [
    {
     "data": {
      "text/plain": [
       "'{}, {}'"
      ]
     },
     "execution_count": 11,
     "metadata": {},
     "output_type": "execute_result"
    }
   ],
   "source": [
    "str_template"
   ]
  },
  {
   "cell_type": "code",
   "execution_count": 14,
   "id": "951e4293",
   "metadata": {},
   "outputs": [],
   "source": [
    "str_template = \"{}, ''{}\""
   ]
  },
  {
   "cell_type": "code",
   "execution_count": 15,
   "id": "58bed912",
   "metadata": {},
   "outputs": [
    {
     "data": {
      "text/plain": [
       "\"{}, ''{}\""
      ]
     },
     "execution_count": 15,
     "metadata": {},
     "output_type": "execute_result"
    }
   ],
   "source": [
    "str_template"
   ]
  },
  {
   "cell_type": "code",
   "execution_count": 18,
   "id": "a359cf3e",
   "metadata": {},
   "outputs": [],
   "source": [
    "PI = 3.14159265359 \n",
    "name = 'PI'\n",
    "# {<name_of_variable>:<format-specifier>} where the format specifier is <width>.<precision><type>"
   ]
  },
  {
   "cell_type": "code",
   "execution_count": 19,
   "id": "3e2231dd",
   "metadata": {},
   "outputs": [
    {
     "name": "stdout",
     "output_type": "stream",
     "text": [
      "PI is 3.14\n"
     ]
    }
   ],
   "source": [
    "print(f'{name} is {PI:.2f}') # newest way"
   ]
  },
  {
   "cell_type": "code",
   "execution_count": 20,
   "id": "04c255fb",
   "metadata": {},
   "outputs": [
    {
     "name": "stdout",
     "output_type": "stream",
     "text": [
      "PI is 3.1416\n"
     ]
    }
   ],
   "source": [
    "print(f'{name} is {PI:.4f}') # newest way"
   ]
  },
  {
   "cell_type": "code",
   "execution_count": 21,
   "id": "4978fa18",
   "metadata": {},
   "outputs": [
    {
     "ename": "ValueError",
     "evalue": "Unknown format code 'd' for object of type 'float'",
     "output_type": "error",
     "traceback": [
      "\u001b[1;31m---------------------------------------------------------------------------\u001b[0m",
      "\u001b[1;31mValueError\u001b[0m                                Traceback (most recent call last)",
      "\u001b[1;32m~\\AppData\\Local\\Temp\\ipykernel_22524\\2728669764.py\u001b[0m in \u001b[0;36m<module>\u001b[1;34m\u001b[0m\n\u001b[1;32m----> 1\u001b[1;33m \u001b[0mprint\u001b[0m\u001b[1;33m(\u001b[0m\u001b[1;34mf'{name} is {PI:.2d}'\u001b[0m\u001b[1;33m)\u001b[0m \u001b[1;31m# newest way\u001b[0m\u001b[1;33m\u001b[0m\u001b[1;33m\u001b[0m\u001b[0m\n\u001b[0m",
      "\u001b[1;31mValueError\u001b[0m: Unknown format code 'd' for object of type 'float'"
     ]
    }
   ],
   "source": [
    "print(f'{name} is {PI:.2d}') # newest way"
   ]
  },
  {
   "cell_type": "code",
   "execution_count": 22,
   "id": "76eeb928",
   "metadata": {},
   "outputs": [
    {
     "name": "stdout",
     "output_type": "stream",
     "text": [
      "EAS503 113 92.3\n"
     ]
    }
   ],
   "source": [
    "a_str = 'EAS503'\n",
    "an_int = 113\n",
    "a_float = 92.3\n",
    "print(a_str, an_int, a_float)"
   ]
  },
  {
   "cell_type": "code",
   "execution_count": 23,
   "id": "35b88349",
   "metadata": {},
   "outputs": [
    {
     "name": "stdout",
     "output_type": "stream",
     "text": [
      "This is the first line.\n",
      "This is the second line.\n"
     ]
    }
   ],
   "source": [
    "line1 = 'This is the first line.\\n'\n",
    "line2 = 'This is the second line.'\n",
    "lines = line1 + line2\n",
    "print(lines)"
   ]
  },
  {
   "cell_type": "code",
   "execution_count": 24,
   "id": "723b92d1",
   "metadata": {},
   "outputs": [
    {
     "data": {
      "text/plain": [
       "'This is the first line.\\nThis is the second line.'"
      ]
     },
     "execution_count": 24,
     "metadata": {},
     "output_type": "execute_result"
    }
   ],
   "source": [
    "lines"
   ]
  },
  {
   "cell_type": "code",
   "execution_count": 25,
   "id": "a5c13b27",
   "metadata": {},
   "outputs": [
    {
     "name": "stdout",
     "output_type": "stream",
     "text": [
      "EAS503\n",
      "EAS503\n"
     ]
    }
   ],
   "source": [
    "course_number = 'EAS503'\n",
    "class_size = 113\n",
    "class_average = 92.3\n",
    "\n",
    "str_format = '{}'.format(course_number)\n",
    "\n",
    "f_string = f'{course_number}'\n",
    "\n",
    "print(str_format)\n",
    "print(f_string)"
   ]
  },
  {
   "cell_type": "code",
   "execution_count": 27,
   "id": "3bd4d801",
   "metadata": {},
   "outputs": [
    {
     "name": "stdout",
     "output_type": "stream",
     "text": [
      "The course number is EAS503. It has 113 students.\n"
     ]
    }
   ],
   "source": [
    "course_number = 'EAS503'\n",
    "class_size = 113\n",
    "class_average = 92.3\n",
    "str_format = 'The course number is {}. It has {} students.'.format(course_number, class_size)\n",
    "print(str_format)"
   ]
  },
  {
   "cell_type": "code",
   "execution_count": 28,
   "id": "b0dae6e5",
   "metadata": {},
   "outputs": [
    {
     "name": "stdout",
     "output_type": "stream",
     "text": [
      "The course number is EAS503. It has 113 students.\n"
     ]
    }
   ],
   "source": [
    "str_format = 'The course number is {0}. It has {1} students.'.format(course_number, class_size)\n",
    "print(str_format)"
   ]
  },
  {
   "cell_type": "code",
   "execution_count": 29,
   "id": "f2f92888",
   "metadata": {},
   "outputs": [
    {
     "name": "stdout",
     "output_type": "stream",
     "text": [
      "The course number is EAS503. It has 113 students.\n",
      "The course number is EAS503. It has 113 students.\n"
     ]
    }
   ],
   "source": [
    "f_string = f'The course number is {course_number}. It has {class_size} students.'\n",
    "\n",
    "print(str_format)\n",
    "print(f_string)"
   ]
  },
  {
   "cell_type": "code",
   "execution_count": 34,
   "id": "cd9ca428",
   "metadata": {},
   "outputs": [
    {
     "name": "stdout",
     "output_type": "stream",
     "text": [
      "EAS503; blah\n"
     ]
    }
   ],
   "source": [
    "print(f'{course_number:4}; blah')"
   ]
  },
  {
   "cell_type": "code",
   "execution_count": 37,
   "id": "8c215451",
   "metadata": {},
   "outputs": [
    {
     "ename": "SyntaxError",
     "evalue": "invalid syntax (803047750.py, line 1)",
     "output_type": "error",
     "traceback": [
      "\u001b[1;36m  File \u001b[1;32m\"C:\\Users\\mkhaw\\AppData\\Local\\Temp\\ipykernel_22524\\803047750.py\"\u001b[1;36m, line \u001b[1;32m1\u001b[0m\n\u001b[1;33m    2EAS\u001b[0m\n\u001b[1;37m     ^\u001b[0m\n\u001b[1;31mSyntaxError\u001b[0m\u001b[1;31m:\u001b[0m invalid syntax\n"
     ]
    }
   ],
   "source": [
    "2EAS"
   ]
  },
  {
   "cell_type": "code",
   "execution_count": 38,
   "id": "4c00709e",
   "metadata": {},
   "outputs": [
    {
     "data": {
      "text/plain": [
       "'2EAS'"
      ]
     },
     "execution_count": 38,
     "metadata": {},
     "output_type": "execute_result"
    }
   ],
   "source": [
    "'2EAS'"
   ]
  },
  {
   "cell_type": "code",
   "execution_count": 48,
   "id": "2d4c7965",
   "metadata": {},
   "outputs": [],
   "source": [
    "x = 2222"
   ]
  },
  {
   "cell_type": "code",
   "execution_count": 53,
   "id": "76bb34a5",
   "metadata": {},
   "outputs": [
    {
     "name": "stdout",
     "output_type": "stream",
     "text": [
      "++++2222;blah\n"
     ]
    }
   ],
   "source": [
    "print(f'{x:+>8};blah')"
   ]
  },
  {
   "cell_type": "code",
   "execution_count": 57,
   "id": "60e19b47",
   "metadata": {},
   "outputs": [
    {
     "name": "stdout",
     "output_type": "stream",
     "text": [
      "++++++++++++++++++++++++++2222;blah\n"
     ]
    }
   ],
   "source": [
    "pad_char = '+'\n",
    "width = 30\n",
    "align = '>'\n",
    "\n",
    "print(f'{x:{pad_char}{align}{width}};blah')"
   ]
  },
  {
   "cell_type": "code",
   "execution_count": 63,
   "id": "f03f995a",
   "metadata": {},
   "outputs": [],
   "source": [
    "def my_print(string, pad_char, align, width):\n",
    "    string = f'{string:{pad_char}{align}{width}}'\n",
    "    return string\n",
    "    "
   ]
  },
  {
   "cell_type": "code",
   "execution_count": 65,
   "id": "c7396eab",
   "metadata": {},
   "outputs": [],
   "source": [
    "a = my_print('2222', '-', '^', 16)"
   ]
  },
  {
   "cell_type": "code",
   "execution_count": 66,
   "id": "99e9a91e",
   "metadata": {},
   "outputs": [
    {
     "data": {
      "text/plain": [
       "16"
      ]
     },
     "execution_count": 66,
     "metadata": {},
     "output_type": "execute_result"
    }
   ],
   "source": [
    "len(a)"
   ]
  },
  {
   "cell_type": "code",
   "execution_count": 67,
   "id": "0da75a93",
   "metadata": {},
   "outputs": [
    {
     "name": "stdout",
     "output_type": "stream",
     "text": [
      "------2222------\n"
     ]
    }
   ],
   "source": [
    "print(a)"
   ]
  },
  {
   "cell_type": "code",
   "execution_count": 70,
   "id": "3b5e56ed",
   "metadata": {},
   "outputs": [
    {
     "name": "stdout",
     "output_type": "stream",
     "text": [
      "3\n"
     ]
    }
   ],
   "source": [
    "print(f'{max(2,3)}')"
   ]
  },
  {
   "cell_type": "code",
   "execution_count": 71,
   "id": "dd632543",
   "metadata": {},
   "outputs": [
    {
     "name": "stdout",
     "output_type": "stream",
     "text": [
      "x=1, y=2, x + y = 3\n"
     ]
    }
   ],
   "source": [
    "x = 1\n",
    "y = 2\n",
    "\n",
    "print(f'x={x}, y={y}, x + y = {x + y}')"
   ]
  },
  {
   "cell_type": "code",
   "execution_count": 73,
   "id": "0a9f1b71",
   "metadata": {},
   "outputs": [
    {
     "name": "stdout",
     "output_type": "stream",
     "text": [
      "999999995\n"
     ]
    }
   ],
   "source": [
    "print(f'{5:9>9}')"
   ]
  },
  {
   "cell_type": "code",
   "execution_count": 74,
   "id": "fe806757",
   "metadata": {},
   "outputs": [
    {
     "data": {
      "text/plain": [
       "'4'"
      ]
     },
     "execution_count": 74,
     "metadata": {},
     "output_type": "execute_result"
    }
   ],
   "source": [
    "f'{3.5:.0f}'"
   ]
  },
  {
   "cell_type": "code",
   "execution_count": 75,
   "id": "19283fb3",
   "metadata": {},
   "outputs": [
    {
     "data": {
      "text/plain": [
       "'4'"
      ]
     },
     "execution_count": 75,
     "metadata": {},
     "output_type": "execute_result"
    }
   ],
   "source": [
    "f'{4.5:.0f}'"
   ]
  },
  {
   "cell_type": "code",
   "execution_count": 76,
   "id": "3f32ac1c",
   "metadata": {},
   "outputs": [
    {
     "data": {
      "text/plain": [
       "'2.67'"
      ]
     },
     "execution_count": 76,
     "metadata": {},
     "output_type": "execute_result"
    }
   ],
   "source": [
    "f'{2.675:.2f}'"
   ]
  },
  {
   "cell_type": "code",
   "execution_count": 81,
   "id": "22f2bdac",
   "metadata": {},
   "outputs": [
    {
     "data": {
      "text/plain": [
       "4.5"
      ]
     },
     "execution_count": 81,
     "metadata": {},
     "output_type": "execute_result"
    }
   ],
   "source": [
    "round(4.50, 4)"
   ]
  },
  {
   "cell_type": "code",
   "execution_count": 82,
   "id": "4b30a464",
   "metadata": {},
   "outputs": [
    {
     "data": {
      "text/plain": [
       "'4.5000'"
      ]
     },
     "execution_count": 82,
     "metadata": {},
     "output_type": "execute_result"
    }
   ],
   "source": [
    "f'{4.5:.4f}'"
   ]
  },
  {
   "cell_type": "code",
   "execution_count": 84,
   "id": "22591e77",
   "metadata": {},
   "outputs": [
    {
     "data": {
      "text/plain": [
       "1"
      ]
     },
     "execution_count": 84,
     "metadata": {},
     "output_type": "execute_result"
    },
    {
     "data": {
      "text/plain": [
       "2"
      ]
     },
     "execution_count": 84,
     "metadata": {},
     "output_type": "execute_result"
    }
   ],
   "source": [
    "from IPython.core.interactiveshell import InteractiveShell\n",
    "InteractiveShell.ast_node_interactivity = \"all\"\n",
    "x = 1\n",
    "y = 2\n",
    "x\n",
    "y"
   ]
  },
  {
   "cell_type": "code",
   "execution_count": 85,
   "id": "400fa09b",
   "metadata": {},
   "outputs": [
    {
     "data": {
      "text/plain": [
       "1"
      ]
     },
     "execution_count": 85,
     "metadata": {},
     "output_type": "execute_result"
    },
    {
     "data": {
      "text/plain": [
       "2"
      ]
     },
     "execution_count": 85,
     "metadata": {},
     "output_type": "execute_result"
    }
   ],
   "source": [
    "x\n",
    "y"
   ]
  },
  {
   "cell_type": "code",
   "execution_count": null,
   "id": "7b329ea4",
   "metadata": {},
   "outputs": [],
   "source": []
  }
 ],
 "metadata": {
  "kernelspec": {
   "display_name": "Python 3 (ipykernel)",
   "language": "python",
   "name": "python3"
  },
  "language_info": {
   "codemirror_mode": {
    "name": "ipython",
    "version": 3
   },
   "file_extension": ".py",
   "mimetype": "text/x-python",
   "name": "python",
   "nbconvert_exporter": "python",
   "pygments_lexer": "ipython3",
   "version": "3.9.13"
  }
 },
 "nbformat": 4,
 "nbformat_minor": 5
}
