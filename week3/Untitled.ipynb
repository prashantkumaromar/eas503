{
 "cells": [
  {
   "cell_type": "code",
   "execution_count": 1,
   "id": "76449657",
   "metadata": {},
   "outputs": [],
   "source": [
    "x = 1\n",
    "y = 2\n",
    "\n",
    "y, x = x, y"
   ]
  },
  {
   "cell_type": "code",
   "execution_count": 2,
   "id": "4727d28b",
   "metadata": {},
   "outputs": [
    {
     "name": "stdout",
     "output_type": "stream",
     "text": [
      "2 1\n"
     ]
    }
   ],
   "source": [
    "print(x, y)"
   ]
  },
  {
   "cell_type": "code",
   "execution_count": 3,
   "id": "ac02ebaa",
   "metadata": {},
   "outputs": [
    {
     "data": {
      "text/plain": [
       "13.75"
      ]
     },
     "execution_count": 3,
     "metadata": {},
     "output_type": "execute_result"
    }
   ],
   "source": [
    "5/4*(2+9)"
   ]
  },
  {
   "cell_type": "code",
   "execution_count": 4,
   "id": "eb07fd9c",
   "metadata": {},
   "outputs": [
    {
     "data": {
      "text/plain": [
       "11"
      ]
     },
     "execution_count": 4,
     "metadata": {},
     "output_type": "execute_result"
    }
   ],
   "source": [
    "5--6"
   ]
  },
  {
   "cell_type": "code",
   "execution_count": 5,
   "id": "4a8f05c7",
   "metadata": {},
   "outputs": [
    {
     "data": {
      "text/plain": [
       "'PI 3 3.140000'"
      ]
     },
     "execution_count": 5,
     "metadata": {},
     "output_type": "execute_result"
    }
   ],
   "source": [
    "'%s %d %f' % ('PI', 3, 3.14)"
   ]
  },
  {
   "cell_type": "code",
   "execution_count": 6,
   "id": "a422a22f",
   "metadata": {},
   "outputs": [
    {
     "ename": "TypeError",
     "evalue": "%d format: a number is required, not str",
     "output_type": "error",
     "traceback": [
      "\u001b[1;31m---------------------------------------------------------------------------\u001b[0m",
      "\u001b[1;31mTypeError\u001b[0m                                 Traceback (most recent call last)",
      "\u001b[1;32m~\\AppData\\Local\\Temp\\ipykernel_22524\\903156456.py\u001b[0m in \u001b[0;36m<module>\u001b[1;34m\u001b[0m\n\u001b[1;32m----> 1\u001b[1;33m \u001b[1;34m'%d %d %f'\u001b[0m \u001b[1;33m%\u001b[0m \u001b[1;33m(\u001b[0m\u001b[1;34m'PI'\u001b[0m\u001b[1;33m,\u001b[0m \u001b[1;36m3\u001b[0m\u001b[1;33m,\u001b[0m \u001b[1;36m3.14\u001b[0m\u001b[1;33m)\u001b[0m\u001b[1;33m\u001b[0m\u001b[1;33m\u001b[0m\u001b[0m\n\u001b[0m",
      "\u001b[1;31mTypeError\u001b[0m: %d format: a number is required, not str"
     ]
    }
   ],
   "source": [
    "'%d %d %f' % ('PI', 3, 3.14)"
   ]
  },
  {
   "cell_type": "code",
   "execution_count": 16,
   "id": "153df3fb",
   "metadata": {},
   "outputs": [],
   "source": [
    "str_template = '{1}, {0}'"
   ]
  },
  {
   "cell_type": "code",
   "execution_count": 17,
   "id": "d8752be9",
   "metadata": {},
   "outputs": [
    {
     "data": {
      "text/plain": [
       "'PI, 3'"
      ]
     },
     "execution_count": 17,
     "metadata": {},
     "output_type": "execute_result"
    }
   ],
   "source": [
    "str_template.format(3, 'PI')"
   ]
  },
  {
   "cell_type": "code",
   "execution_count": 9,
   "id": "7430fd22",
   "metadata": {},
   "outputs": [
    {
     "data": {
      "text/plain": [
       "'BAT, PI'"
      ]
     },
     "execution_count": 9,
     "metadata": {},
     "output_type": "execute_result"
    }
   ],
   "source": [
    "str_template.format('BAT', 'PI')"
   ]
  },
  {
   "cell_type": "code",
   "execution_count": null,
   "id": "086eb537",
   "metadata": {},
   "outputs": [],
   "source": [
    "Over here format is function?\n",
    "and str_template.format() is method?\n",
    "also, what is data type of 3 here?"
   ]
  },
  {
   "cell_type": "code",
   "execution_count": 10,
   "id": "613c2aa8",
   "metadata": {},
   "outputs": [
    {
     "data": {
      "text/plain": [
       "'{}, {}'"
      ]
     },
     "execution_count": 10,
     "metadata": {},
     "output_type": "execute_result"
    }
   ],
   "source": [
    "str_template"
   ]
  },
  {
   "cell_type": "code",
   "execution_count": null,
   "id": "c1f9e532",
   "metadata": {},
   "outputs": [],
   "source": [
    "str_template.format()"
   ]
  },
  {
   "cell_type": "code",
   "execution_count": 11,
   "id": "4fddac8a",
   "metadata": {},
   "outputs": [
    {
     "data": {
      "text/plain": [
       "'{}, {}'"
      ]
     },
     "execution_count": 11,
     "metadata": {},
     "output_type": "execute_result"
    }
   ],
   "source": [
    "str_template"
   ]
  },
  {
   "cell_type": "code",
   "execution_count": 14,
   "id": "be8f569a",
   "metadata": {},
   "outputs": [],
   "source": [
    "str_template = \"{}, ''{}\""
   ]
  },
  {
   "cell_type": "code",
   "execution_count": 15,
   "id": "ce87d52f",
   "metadata": {},
   "outputs": [
    {
     "data": {
      "text/plain": [
       "\"{}, ''{}\""
      ]
     },
     "execution_count": 15,
     "metadata": {},
     "output_type": "execute_result"
    }
   ],
   "source": [
    "str_template"
   ]
  },
  {
   "cell_type": "code",
   "execution_count": 18,
   "id": "f0e988f4",
   "metadata": {},
   "outputs": [],
   "source": [
    "PI = 3.14159265359 \n",
    "name = 'PI'\n",
    "# {<name_of_variable>:<format-specifier>} where the format specifier is <width>.<precision><type>"
   ]
  },
  {
   "cell_type": "code",
   "execution_count": 19,
   "id": "ffb64e20",
   "metadata": {},
   "outputs": [
    {
     "name": "stdout",
     "output_type": "stream",
     "text": [
      "PI is 3.14\n"
     ]
    }
   ],
   "source": [
    "print(f'{name} is {PI:.2f}') # newest way"
   ]
  },
  {
   "cell_type": "code",
   "execution_count": 20,
   "id": "9b7ce80a",
   "metadata": {},
   "outputs": [
    {
     "name": "stdout",
     "output_type": "stream",
     "text": [
      "PI is 3.1416\n"
     ]
    }
   ],
   "source": [
    "print(f'{name} is {PI:.4f}') # newest way"
   ]
  },
  {
   "cell_type": "code",
   "execution_count": 21,
   "id": "a885eb05",
   "metadata": {},
   "outputs": [
    {
     "ename": "ValueError",
     "evalue": "Unknown format code 'd' for object of type 'float'",
     "output_type": "error",
     "traceback": [
      "\u001b[1;31m---------------------------------------------------------------------------\u001b[0m",
      "\u001b[1;31mValueError\u001b[0m                                Traceback (most recent call last)",
      "\u001b[1;32m~\\AppData\\Local\\Temp\\ipykernel_22524\\2728669764.py\u001b[0m in \u001b[0;36m<module>\u001b[1;34m\u001b[0m\n\u001b[1;32m----> 1\u001b[1;33m \u001b[0mprint\u001b[0m\u001b[1;33m(\u001b[0m\u001b[1;34mf'{name} is {PI:.2d}'\u001b[0m\u001b[1;33m)\u001b[0m \u001b[1;31m# newest way\u001b[0m\u001b[1;33m\u001b[0m\u001b[1;33m\u001b[0m\u001b[0m\n\u001b[0m",
      "\u001b[1;31mValueError\u001b[0m: Unknown format code 'd' for object of type 'float'"
     ]
    }
   ],
   "source": [
    "print(f'{name} is {PI:.2d}') # newest way"
   ]
  },
  {
   "cell_type": "code",
   "execution_count": 22,
   "id": "d812598b",
   "metadata": {},
   "outputs": [
    {
     "name": "stdout",
     "output_type": "stream",
     "text": [
      "EAS503 113 92.3\n"
     ]
    }
   ],
   "source": [
    "a_str = 'EAS503'\n",
    "an_int = 113\n",
    "a_float = 92.3\n",
    "print(a_str, an_int, a_float)"
   ]
  },
  {
   "cell_type": "code",
   "execution_count": 23,
   "id": "f7e24a85",
   "metadata": {},
   "outputs": [
    {
     "name": "stdout",
     "output_type": "stream",
     "text": [
      "This is the first line.\n",
      "This is the second line.\n"
     ]
    }
   ],
   "source": [
    "line1 = 'This is the first line.\\n'\n",
    "line2 = 'This is the second line.'\n",
    "lines = line1 + line2\n",
    "print(lines)"
   ]
  },
  {
   "cell_type": "code",
   "execution_count": 24,
   "id": "1b481d59",
   "metadata": {},
   "outputs": [
    {
     "data": {
      "text/plain": [
       "'This is the first line.\\nThis is the second line.'"
      ]
     },
     "execution_count": 24,
     "metadata": {},
     "output_type": "execute_result"
    }
   ],
   "source": [
    "lines"
   ]
  },
  {
   "cell_type": "code",
   "execution_count": 25,
   "id": "b9959ca8",
   "metadata": {},
   "outputs": [
    {
     "name": "stdout",
     "output_type": "stream",
     "text": [
      "EAS503\n",
      "EAS503\n"
     ]
    }
   ],
   "source": [
    "course_number = 'EAS503'\n",
    "class_size = 113\n",
    "class_average = 92.3\n",
    "\n",
    "str_format = '{}'.format(course_number)\n",
    "\n",
    "f_string = f'{course_number}'\n",
    "\n",
    "print(str_format)\n",
    "print(f_string)"
   ]
  },
  {
   "cell_type": "code",
   "execution_count": 27,
   "id": "09636f24",
   "metadata": {},
   "outputs": [
    {
     "name": "stdout",
     "output_type": "stream",
     "text": [
      "The course number is EAS503. It has 113 students.\n"
     ]
    }
   ],
   "source": [
    "course_number = 'EAS503'\n",
    "class_size = 113\n",
    "class_average = 92.3\n",
    "str_format = 'The course number is {}. It has {} students.'.format(course_number, class_size)\n",
    "print(str_format)"
   ]
  },
  {
   "cell_type": "code",
   "execution_count": 28,
   "id": "442ff9f7",
   "metadata": {},
   "outputs": [
    {
     "name": "stdout",
     "output_type": "stream",
     "text": [
      "The course number is EAS503. It has 113 students.\n"
     ]
    }
   ],
   "source": [
    "str_format = 'The course number is {0}. It has {1} students.'.format(course_number, class_size)\n",
    "print(str_format)"
   ]
  },
  {
   "cell_type": "code",
   "execution_count": 29,
   "id": "aeb96cd7",
   "metadata": {},
   "outputs": [
    {
     "name": "stdout",
     "output_type": "stream",
     "text": [
      "The course number is EAS503. It has 113 students.\n",
      "The course number is EAS503. It has 113 students.\n"
     ]
    }
   ],
   "source": [
    "f_string = f'The course number is {course_number}. It has {class_size} students.'\n",
    "\n",
    "print(str_format)\n",
    "print(f_string)"
   ]
  },
  {
   "cell_type": "code",
   "execution_count": 34,
   "id": "a36630a7",
   "metadata": {},
   "outputs": [
    {
     "name": "stdout",
     "output_type": "stream",
     "text": [
      "EAS503; blah\n"
     ]
    }
   ],
   "source": [
    "print(f'{course_number:4}; blah')"
   ]
  },
  {
   "cell_type": "code",
   "execution_count": 37,
   "id": "f842b924",
   "metadata": {},
   "outputs": [
    {
     "ename": "SyntaxError",
     "evalue": "invalid syntax (803047750.py, line 1)",
     "output_type": "error",
     "traceback": [
      "\u001b[1;36m  File \u001b[1;32m\"C:\\Users\\mkhaw\\AppData\\Local\\Temp\\ipykernel_22524\\803047750.py\"\u001b[1;36m, line \u001b[1;32m1\u001b[0m\n\u001b[1;33m    2EAS\u001b[0m\n\u001b[1;37m     ^\u001b[0m\n\u001b[1;31mSyntaxError\u001b[0m\u001b[1;31m:\u001b[0m invalid syntax\n"
     ]
    }
   ],
   "source": [
    "2EAS"
   ]
  },
  {
   "cell_type": "code",
   "execution_count": 38,
   "id": "75a9bc46",
   "metadata": {},
   "outputs": [
    {
     "data": {
      "text/plain": [
       "'2EAS'"
      ]
     },
     "execution_count": 38,
     "metadata": {},
     "output_type": "execute_result"
    }
   ],
   "source": [
    "'2EAS'"
   ]
  },
  {
   "cell_type": "code",
   "execution_count": 48,
   "id": "8a7a51a5",
   "metadata": {},
   "outputs": [],
   "source": [
    "x = 2222"
   ]
  },
  {
   "cell_type": "code",
   "execution_count": 53,
   "id": "73f58e9c",
   "metadata": {},
   "outputs": [
    {
     "name": "stdout",
     "output_type": "stream",
     "text": [
      "++++2222;blah\n"
     ]
    }
   ],
   "source": [
    "print(f'{x:+>8};blah')"
   ]
  },
  {
   "cell_type": "code",
   "execution_count": 57,
   "id": "18e456ae",
   "metadata": {},
   "outputs": [
    {
     "name": "stdout",
     "output_type": "stream",
     "text": [
      "++++++++++++++++++++++++++2222;blah\n"
     ]
    }
   ],
   "source": [
    "pad_char = '+'\n",
    "width = 30\n",
    "align = '>'\n",
    "\n",
    "print(f'{x:{pad_char}{align}{width}};blah')"
   ]
  },
  {
   "cell_type": "code",
   "execution_count": 63,
   "id": "696f6a96",
   "metadata": {},
   "outputs": [],
   "source": [
    "def my_print(string, pad_char, align, width):\n",
    "    string = f'{string:{pad_char}{align}{width}}'\n",
    "    return string\n",
    "    "
   ]
  },
  {
   "cell_type": "code",
   "execution_count": 65,
   "id": "6e5fcd8e",
   "metadata": {},
   "outputs": [],
   "source": [
    "a = my_print('2222', '-', '^', 16)"
   ]
  },
  {
   "cell_type": "code",
   "execution_count": 66,
   "id": "7a2c1dad",
   "metadata": {},
   "outputs": [
    {
     "data": {
      "text/plain": [
       "16"
      ]
     },
     "execution_count": 66,
     "metadata": {},
     "output_type": "execute_result"
    }
   ],
   "source": [
    "len(a)"
   ]
  },
  {
   "cell_type": "code",
   "execution_count": 67,
   "id": "bf13d659",
   "metadata": {},
   "outputs": [
    {
     "name": "stdout",
     "output_type": "stream",
     "text": [
      "------2222------\n"
     ]
    }
   ],
   "source": [
    "print(a)"
   ]
  },
  {
   "cell_type": "code",
   "execution_count": 70,
   "id": "ceed2b9f",
   "metadata": {},
   "outputs": [
    {
     "name": "stdout",
     "output_type": "stream",
     "text": [
      "3\n"
     ]
    }
   ],
   "source": [
    "print(f'{max(2,3)}')"
   ]
  },
  {
   "cell_type": "code",
   "execution_count": 71,
   "id": "1d798ef2",
   "metadata": {},
   "outputs": [
    {
     "name": "stdout",
     "output_type": "stream",
     "text": [
      "x=1, y=2, x + y = 3\n"
     ]
    }
   ],
   "source": [
    "x = 1\n",
    "y = 2\n",
    "\n",
    "print(f'x={x}, y={y}, x + y = {x + y}')"
   ]
  },
  {
   "cell_type": "code",
   "execution_count": 73,
   "id": "e7e53187",
   "metadata": {},
   "outputs": [
    {
     "name": "stdout",
     "output_type": "stream",
     "text": [
      "999999995\n"
     ]
    }
   ],
   "source": [
    "print(f'{5:9>9}')"
   ]
  },
  {
   "cell_type": "code",
   "execution_count": 74,
   "id": "3da0ff26",
   "metadata": {},
   "outputs": [
    {
     "data": {
      "text/plain": [
       "'4'"
      ]
     },
     "execution_count": 74,
     "metadata": {},
     "output_type": "execute_result"
    }
   ],
   "source": [
    "f'{3.5:.0f}'"
   ]
  },
  {
   "cell_type": "code",
   "execution_count": 75,
   "id": "0c9e9035",
   "metadata": {},
   "outputs": [
    {
     "data": {
      "text/plain": [
       "'4'"
      ]
     },
     "execution_count": 75,
     "metadata": {},
     "output_type": "execute_result"
    }
   ],
   "source": [
    "f'{4.5:.0f}'"
   ]
  },
  {
   "cell_type": "code",
   "execution_count": 76,
   "id": "8bca064d",
   "metadata": {},
   "outputs": [
    {
     "data": {
      "text/plain": [
       "'2.67'"
      ]
     },
     "execution_count": 76,
     "metadata": {},
     "output_type": "execute_result"
    }
   ],
   "source": [
    "f'{2.675:.2f}'"
   ]
  },
  {
   "cell_type": "code",
   "execution_count": 81,
   "id": "50b49354",
   "metadata": {},
   "outputs": [
    {
     "data": {
      "text/plain": [
       "4.5"
      ]
     },
     "execution_count": 81,
     "metadata": {},
     "output_type": "execute_result"
    }
   ],
   "source": [
    "round(4.50, 4)"
   ]
  },
  {
   "cell_type": "code",
   "execution_count": 82,
   "id": "8ee87213",
   "metadata": {},
   "outputs": [
    {
     "data": {
      "text/plain": [
       "'4.5000'"
      ]
     },
     "execution_count": 82,
     "metadata": {},
     "output_type": "execute_result"
    }
   ],
   "source": [
    "f'{4.5:.4f}'"
   ]
  },
  {
   "cell_type": "code",
   "execution_count": 87,
   "id": "4eafdb20",
   "metadata": {},
   "outputs": [
    {
     "data": {
      "text/plain": [
       "1"
      ]
     },
     "execution_count": 87,
     "metadata": {},
     "output_type": "execute_result"
    },
    {
     "data": {
      "text/plain": [
       "2"
      ]
     },
     "execution_count": 87,
     "metadata": {},
     "output_type": "execute_result"
    }
   ],
   "source": [
    "from IPython.core.interactiveshell import InteractiveShell\n",
    "InteractiveShell.ast_node_interactivity = \"all\"\n",
    "x = 1\n",
    "y = 2\n",
    "x\n",
    "y"
   ]
  },
  {
   "cell_type": "code",
   "execution_count": 85,
   "id": "121bb27a",
   "metadata": {},
   "outputs": [
    {
     "data": {
      "text/plain": [
       "1"
      ]
     },
     "execution_count": 85,
     "metadata": {},
     "output_type": "execute_result"
    },
    {
     "data": {
      "text/plain": [
       "2"
      ]
     },
     "execution_count": 85,
     "metadata": {},
     "output_type": "execute_result"
    }
   ],
   "source": [
    "x\n",
    "y"
   ]
  },
  {
   "cell_type": "code",
   "execution_count": 86,
   "id": "a5001fbf",
   "metadata": {},
   "outputs": [
    {
     "name": "stdout",
     "output_type": "stream",
     "text": [
      "+---------------------------------------------------+\n",
      "|               Cereal Yields (kg/ha)               |\n",
      "+---------------+--------+--------+--------+--------+\n",
      "|    Country    |  1980  |  1990  |  2000  |  2010  |\n",
      "+---------------+--------+--------+--------+--------+\n",
      "| China         |  2,937 |  4,321 |  4,752 |  5,527 |\n",
      "| Germany       |  4,225 |  5,411 |  6,453 |  6,718 |\n",
      "| United States |  3,772 |  4,755 |  5,854 |  6,988 |\n",
      "+---------------+--------+--------+--------+--------+\n"
     ]
    }
   ],
   "source": [
    "title = '|' + '{:^51}'.format('Cereal Yields (kg/ha)') + '|'\n",
    "line = '+' + '-'*15 + '+' + ('-'*8 + '+')*4\n",
    "row = '| {:<13} |' + ' {:6,d} |'*4\n",
    "header = '| {:^13s} |'.format('Country') + (' {:^6d} |'*4).format(1980, 1990,\n",
    "                                                                  2000, 2010)\n",
    "print('+' + '-'*(len(title)-2) + '+',\n",
    "      title,\n",
    "      line,\n",
    "      header,\n",
    "      line,\n",
    "      row.format('China', 2937, 4321, 4752, 5527),\n",
    "      row.format('Germany', 4225, 5411, 6453, 6718),\n",
    "      row.format('United States', 3772, 4755, 5854, 6988),\n",
    "      line,\n",
    "      sep='\\n')"
   ]
  },
  {
   "cell_type": "code",
   "execution_count": 120,
   "id": "1603bcb5",
   "metadata": {},
   "outputs": [],
   "source": [
    "title = '|' + '{:^51}'.format('Cereal Yields (kg/ha)') + '|'"
   ]
  },
  {
   "cell_type": "code",
   "execution_count": 114,
   "id": "21d309ea",
   "metadata": {},
   "outputs": [
    {
     "data": {
      "text/plain": [
       "63"
      ]
     },
     "execution_count": 114,
     "metadata": {},
     "output_type": "execute_result"
    }
   ],
   "source": [
    "len(title)"
   ]
  },
  {
   "cell_type": "code",
   "execution_count": 115,
   "id": "ff3803a8",
   "metadata": {},
   "outputs": [
    {
     "name": "stdout",
     "output_type": "stream",
     "text": [
      "|                    Cereal Yields (kg/ha)                    |\n"
     ]
    }
   ],
   "source": [
    "print(title)"
   ]
  },
  {
   "cell_type": "code",
   "execution_count": 97,
   "id": "a8706615",
   "metadata": {},
   "outputs": [],
   "source": [
    "line = '+' + '-'*15 + '+' + ('-'*8 + '+')*4"
   ]
  },
  {
   "cell_type": "code",
   "execution_count": 98,
   "id": "d4885f1a",
   "metadata": {},
   "outputs": [
    {
     "name": "stdout",
     "output_type": "stream",
     "text": [
      "+---------------+--------+--------+--------+--------+\n"
     ]
    }
   ],
   "source": [
    "print(line)"
   ]
  },
  {
   "cell_type": "code",
   "execution_count": 99,
   "id": "3ba0d6fb",
   "metadata": {},
   "outputs": [
    {
     "data": {
      "text/plain": [
       "'--------+--------+--------+--------+'"
      ]
     },
     "execution_count": 99,
     "metadata": {},
     "output_type": "execute_result"
    }
   ],
   "source": [
    "('-'*8 + '+') * 4"
   ]
  },
  {
   "cell_type": "code",
   "execution_count": 101,
   "id": "db5032de",
   "metadata": {},
   "outputs": [],
   "source": [
    "row = '| {:<13} |' + ' {:6,d} |'*4"
   ]
  },
  {
   "cell_type": "code",
   "execution_count": 102,
   "id": "a8f49a15",
   "metadata": {},
   "outputs": [
    {
     "data": {
      "text/plain": [
       "' {:6,d} | {:6,d} | {:6,d} | {:6,d} |'"
      ]
     },
     "execution_count": 102,
     "metadata": {},
     "output_type": "execute_result"
    }
   ],
   "source": [
    "' {:6,d} |'*4"
   ]
  },
  {
   "cell_type": "code",
   "execution_count": 103,
   "id": "9cbec401",
   "metadata": {},
   "outputs": [
    {
     "data": {
      "text/plain": [
       "'| {:<13} | {:6,d} | {:6,d} | {:6,d} | {:6,d} |'"
      ]
     },
     "execution_count": 103,
     "metadata": {},
     "output_type": "execute_result"
    }
   ],
   "source": [
    "row"
   ]
  },
  {
   "cell_type": "code",
   "execution_count": 104,
   "id": "4b4178de",
   "metadata": {},
   "outputs": [
    {
     "data": {
      "text/plain": [
       "'| China         |  2,937 |  4,321 |  4,752 |  5,527 |'"
      ]
     },
     "execution_count": 104,
     "metadata": {},
     "output_type": "execute_result"
    }
   ],
   "source": [
    "row.format('China', 2937, 4321, 4752, 5527)"
   ]
  },
  {
   "cell_type": "code",
   "execution_count": 105,
   "id": "d340c401",
   "metadata": {},
   "outputs": [
    {
     "data": {
      "text/plain": [
       "('| Germany       |  4,225 |  5,411 |  6,453 |  6,718 |',)"
      ]
     },
     "execution_count": 105,
     "metadata": {},
     "output_type": "execute_result"
    }
   ],
   "source": [
    " row.format('Germany', 4225, 5411, 6453, 6718),"
   ]
  },
  {
   "cell_type": "code",
   "execution_count": 108,
   "id": "44a4d516",
   "metadata": {},
   "outputs": [],
   "source": [
    "header = '| {:^13} |'.format('Country') + (' {:^6} |'*4).format(1980, 1990,\n",
    "                                                                  2000, 2010)"
   ]
  },
  {
   "cell_type": "code",
   "execution_count": 109,
   "id": "738ed620",
   "metadata": {},
   "outputs": [
    {
     "data": {
      "text/plain": [
       "'|    Country    |  1980  |  1990  |  2000  |  2010  |'"
      ]
     },
     "execution_count": 109,
     "metadata": {},
     "output_type": "execute_result"
    }
   ],
   "source": [
    "header"
   ]
  },
  {
   "cell_type": "code",
   "execution_count": 110,
   "id": "3281ed89",
   "metadata": {},
   "outputs": [
    {
     "data": {
      "text/plain": [
       "'---------------------------------------------------'"
      ]
     },
     "execution_count": 110,
     "metadata": {},
     "output_type": "execute_result"
    }
   ],
   "source": [
    "'-'*(len(title)-2)"
   ]
  },
  {
   "cell_type": "code",
   "execution_count": 111,
   "id": "41926ddd",
   "metadata": {},
   "outputs": [
    {
     "name": "stdout",
     "output_type": "stream",
     "text": [
      "|               Cereal Yields (kg/ha)               |\n"
     ]
    }
   ],
   "source": [
    "print(title)"
   ]
  },
  {
   "cell_type": "code",
   "execution_count": 117,
   "id": "efb29b13",
   "metadata": {},
   "outputs": [],
   "source": [
    "top = '+' + '-'*(len(title)-2) + '+'"
   ]
  },
  {
   "cell_type": "code",
   "execution_count": 118,
   "id": "d8b6a49e",
   "metadata": {},
   "outputs": [
    {
     "name": "stdout",
     "output_type": "stream",
     "text": [
      "+-------------------------------------------------------------+\n",
      "|                    Cereal Yields (kg/ha)                    |\n"
     ]
    }
   ],
   "source": [
    "print(top, title, sep='\\n')"
   ]
  },
  {
   "cell_type": "code",
   "execution_count": 121,
   "id": "3ccb8cc4",
   "metadata": {},
   "outputs": [
    {
     "name": "stdout",
     "output_type": "stream",
     "text": [
      "+---------------------------------------------------+\n",
      "|               Cereal Yields (kg/ha)               |\n",
      "+---------------+--------+--------+--------+--------+\n",
      "|    Country    |  1980  |  1990  |  2000  |  2010  |\n",
      "+---------------+--------+--------+--------+--------+\n",
      "| China         |  2,937 |  4,321 |  4,752 |  5,527 |\n",
      "| Germany       |  4,225 |  5,411 |  6,453 |  6,718 |\n",
      "| United States |  3,772 |  4,755 |  5,854 |  6,988 |\n",
      "+---------------+--------+--------+--------+--------+\n"
     ]
    }
   ],
   "source": [
    "print('+' + '-'*(len(title)-2) + '+',\n",
    "      title,\n",
    "      line,\n",
    "      header,\n",
    "      line,\n",
    "      row.format('China', 2937, 4321, 4752, 5527),\n",
    "      row.format('Germany', 4225, 5411, 6453, 6718),\n",
    "      row.format('United States', 3772, 4755, 5854, 6988),\n",
    "      line,\n",
    "      sep='\\n')"
   ]
  },
  {
   "cell_type": "code",
   "execution_count": 122,
   "id": "6c0428a2",
   "metadata": {},
   "outputs": [],
   "source": [
    "x = 'browning'"
   ]
  },
  {
   "cell_type": "code",
   "execution_count": 124,
   "id": "a7948a83",
   "metadata": {},
   "outputs": [
    {
     "data": {
      "text/plain": [
       "'Abc dfg'"
      ]
     },
     "execution_count": 124,
     "metadata": {},
     "output_type": "execute_result"
    }
   ],
   "source": [
    "'abc dfg'.capitalize()"
   ]
  },
  {
   "cell_type": "code",
   "execution_count": 125,
   "id": "3aee701a",
   "metadata": {},
   "outputs": [
    {
     "data": {
      "text/plain": [
       "'Browning'"
      ]
     },
     "execution_count": 125,
     "metadata": {},
     "output_type": "execute_result"
    }
   ],
   "source": [
    "str.capitalize('browning')"
   ]
  },
  {
   "cell_type": "code",
   "execution_count": 126,
   "id": "75e87c6f",
   "metadata": {},
   "outputs": [
    {
     "name": "stdout",
     "output_type": "stream",
     "text": [
      "   ABBCCC   Dummy\n",
      "ABBCCC Dummy\n"
     ]
    }
   ],
   "source": [
    "my_string = '   ABBCCC  '\n",
    "print(my_string, 'Dummy')\n",
    "print(my_string.strip(), 'Dummy')"
   ]
  },
  {
   "cell_type": "code",
   "execution_count": 127,
   "id": "f718a0d2",
   "metadata": {},
   "outputs": [
    {
     "name": "stdout",
     "output_type": "stream",
     "text": [
      "ABBCCC Dummy\n"
     ]
    }
   ],
   "source": [
    "my_string = '   ABBCCC  '\n",
    "print(my_string.strip(), 'Dummy')"
   ]
  },
  {
   "cell_type": "code",
   "execution_count": 128,
   "id": "a6983e7c",
   "metadata": {},
   "outputs": [
    {
     "name": "stdout",
     "output_type": "stream",
     "text": [
      "ABBCCC Dummy\n"
     ]
    }
   ],
   "source": [
    "my_string = '   ABBCCC  '\n",
    "print(my_string.strip(' '), 'Dummy')"
   ]
  },
  {
   "cell_type": "code",
   "execution_count": 129,
   "id": "9937832c",
   "metadata": {},
   "outputs": [
    {
     "name": "stdout",
     "output_type": "stream",
     "text": [
      "   ABBCCC   Dummy\n"
     ]
    }
   ],
   "source": [
    "my_string = '   ABBCCC  '\n",
    "print(my_string.strip('A'), 'Dummy')"
   ]
  },
  {
   "cell_type": "code",
   "execution_count": 130,
   "id": "99d69424",
   "metadata": {},
   "outputs": [
    {
     "name": "stdout",
     "output_type": "stream",
     "text": [
      "BBCCC   Dummy\n"
     ]
    }
   ],
   "source": [
    "my_string = 'AAAABBCCC  '\n",
    "print(my_string.strip('A'), 'Dummy')"
   ]
  },
  {
   "cell_type": "code",
   "execution_count": 131,
   "id": "358bd7d5",
   "metadata": {},
   "outputs": [],
   "source": [
    "x = ' a b \\t ajlksdf\\n'"
   ]
  },
  {
   "cell_type": "code",
   "execution_count": 132,
   "id": "67b6675f",
   "metadata": {},
   "outputs": [
    {
     "name": "stdout",
     "output_type": "stream",
     "text": [
      " a b \t ajlksdf\n",
      "\n"
     ]
    }
   ],
   "source": [
    "print(x)"
   ]
  },
  {
   "cell_type": "code",
   "execution_count": 133,
   "id": "73b9659d",
   "metadata": {},
   "outputs": [
    {
     "name": "stdout",
     "output_type": "stream",
     "text": [
      "a b \t ajlksdf\n"
     ]
    }
   ],
   "source": [
    "print(x.strip())"
   ]
  },
  {
   "cell_type": "code",
   "execution_count": 136,
   "id": "f775abac",
   "metadata": {},
   "outputs": [
    {
     "name": "stdout",
     "output_type": "stream",
     "text": [
      "True\n"
     ]
    }
   ],
   "source": [
    "my_string = 'eas503'\n",
    "print(my_string.islower())"
   ]
  },
  {
   "cell_type": "code",
   "execution_count": 137,
   "id": "621acb1d",
   "metadata": {},
   "outputs": [
    {
     "data": {
      "text/plain": [
       "'eas503'"
      ]
     },
     "execution_count": 137,
     "metadata": {},
     "output_type": "execute_result"
    }
   ],
   "source": [
    "my_string"
   ]
  },
  {
   "cell_type": "code",
   "execution_count": 138,
   "id": "8407793a",
   "metadata": {},
   "outputs": [],
   "source": [
    "my_string = ' ABCDFD   \\t'"
   ]
  },
  {
   "cell_type": "code",
   "execution_count": 139,
   "id": "971758a3",
   "metadata": {},
   "outputs": [
    {
     "name": "stdout",
     "output_type": "stream",
     "text": [
      " ABCDFD   \t\n"
     ]
    }
   ],
   "source": [
    "print(my_string)"
   ]
  },
  {
   "cell_type": "code",
   "execution_count": 140,
   "id": "6129d750",
   "metadata": {},
   "outputs": [
    {
     "name": "stdout",
     "output_type": "stream",
     "text": [
      "ABCDFD a\n"
     ]
    }
   ],
   "source": [
    "print(my_string.strip(), 'a')"
   ]
  },
  {
   "cell_type": "code",
   "execution_count": 141,
   "id": "fbf07d3e",
   "metadata": {},
   "outputs": [
    {
     "data": {
      "text/plain": [
       "' ABCDFD   \\t'"
      ]
     },
     "execution_count": 141,
     "metadata": {},
     "output_type": "execute_result"
    }
   ],
   "source": [
    "my_string"
   ]
  },
  {
   "cell_type": "code",
   "execution_count": null,
   "id": "e4bf3a79",
   "metadata": {},
   "outputs": [],
   "source": []
  }
 ],
 "metadata": {
  "kernelspec": {
   "display_name": "Python 3 (ipykernel)",
   "language": "python",
   "name": "python3"
  },
  "language_info": {
   "codemirror_mode": {
    "name": "ipython",
    "version": 3
   },
   "file_extension": ".py",
   "mimetype": "text/x-python",
   "name": "python",
   "nbconvert_exporter": "python",
   "pygments_lexer": "ipython3",
   "version": "3.9.13"
  }
 },
 "nbformat": 4,
 "nbformat_minor": 5
}
