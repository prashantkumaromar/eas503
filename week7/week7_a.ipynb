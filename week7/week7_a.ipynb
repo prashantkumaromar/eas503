{
 "cells": [
  {
   "cell_type": "code",
   "execution_count": 2,
   "id": "97f6eb64-5a42-4b38-bbcc-ebbeee5d8d50",
   "metadata": {},
   "outputs": [
    {
     "data": {
      "text/plain": [
       "'ABCDEFGHI'"
      ]
     },
     "execution_count": 2,
     "metadata": {},
     "output_type": "execute_result"
    }
   ],
   "source": [
    "x = 'abcdefghi'\n",
    "# map(func, sequence)\n",
    "''.join(map(lambda ele: ele.upper(), x))"
   ]
  },
  {
   "cell_type": "code",
   "execution_count": 4,
   "id": "afb39814-9673-4560-9ce9-30b54808d39b",
   "metadata": {},
   "outputs": [
    {
     "data": {
      "text/plain": [
       "[0, 1, 4, 9, 16, 25, 36, 49, 64]"
      ]
     },
     "execution_count": 4,
     "metadata": {},
     "output_type": "execute_result"
    }
   ],
   "source": [
    "x = range(9)\n",
    "list(map(lambda ele: ele*ele, x))"
   ]
  },
  {
   "cell_type": "code",
   "execution_count": 6,
   "id": "d97a7094-20f4-4b37-af46-02f197b03a43",
   "metadata": {},
   "outputs": [
    {
     "name": "stdout",
     "output_type": "stream",
     "text": [
      "0\n",
      "1\n",
      "4\n",
      "9\n",
      "16\n",
      "25\n",
      "36\n",
      "49\n",
      "64\n"
     ]
    }
   ],
   "source": [
    "y = map(lambda ele: ele*ele, x) # y = [0, 1, 4, 9 ...]\n",
    "for ele in y:\n",
    "    print(ele)"
   ]
  },
  {
   "cell_type": "code",
   "execution_count": 7,
   "id": "4670f6b4-7815-4d4f-8066-7e12daeda974",
   "metadata": {},
   "outputs": [],
   "source": [
    "for ele in y: # y = []\n",
    "    print(ele)"
   ]
  },
  {
   "cell_type": "code",
   "execution_count": null,
   "id": "948864fc-2aa2-4213-ac9f-baa9bc5681ac",
   "metadata": {},
   "outputs": [],
   "source": [
    "z = []\n",
    "for ele in z:\n",
    "    print(ele)"
   ]
  },
  {
   "cell_type": "code",
   "execution_count": 8,
   "id": "9f20f999-80e1-4dce-916d-1e1bb57a3218",
   "metadata": {},
   "outputs": [
    {
     "name": "stdout",
     "output_type": "stream",
     "text": [
      "0\n",
      "1\n",
      "4\n",
      "9\n",
      "16\n",
      "25\n",
      "36\n",
      "49\n",
      "64\n",
      "0\n",
      "1\n",
      "4\n",
      "9\n",
      "16\n",
      "25\n",
      "36\n",
      "49\n",
      "64\n"
     ]
    }
   ],
   "source": [
    "y = list(map(lambda ele: ele*ele, x)) # y = [0, 1, 4, 9 ...]\n",
    "for ele in y:\n",
    "    print(ele)\n",
    "\n",
    "for ele in y:\n",
    "    print(ele)"
   ]
  },
  {
   "cell_type": "code",
   "execution_count": 11,
   "id": "f10f085b-35b6-41ef-a321-8a176b31907e",
   "metadata": {},
   "outputs": [
    {
     "name": "stdout",
     "output_type": "stream",
     "text": [
      "<generator object <genexpr> at 0x0000019B6E57CC10>\n",
      "0\n",
      "1\n",
      "2\n",
      "3\n",
      "4\n"
     ]
    }
   ],
   "source": [
    "x = (ele for ele in range(5))\n",
    "print(x)\n",
    "for ele in x:\n",
    "    print(ele)"
   ]
  },
  {
   "cell_type": "code",
   "execution_count": 10,
   "id": "680c0e26-de0e-4b16-b4f4-d0a055131b81",
   "metadata": {},
   "outputs": [],
   "source": [
    "for ele in x:\n",
    "    print(ele)"
   ]
  },
  {
   "cell_type": "code",
   "execution_count": 19,
   "id": "c5b69e49-5fa2-437e-92e3-a1388b71d664",
   "metadata": {},
   "outputs": [],
   "source": [
    "my_dict = [ {'value': '11'}, {'value': '2'}, {'value': '1000'}, {'value': '52'}]"
   ]
  },
  {
   "cell_type": "code",
   "execution_count": 25,
   "id": "c1d02ec2-f517-41de-b155-09f953342e7d",
   "metadata": {},
   "outputs": [
    {
     "data": {
      "text/plain": [
       "[{'value': 11.0}, {'value': 2.0}, {'value': 1000.0}, {'value': 52.0}]"
      ]
     },
     "execution_count": 25,
     "metadata": {},
     "output_type": "execute_result"
    }
   ],
   "source": [
    "# map(func, sequence)\n",
    "# sequence - my_dict\n",
    "# func - lambda xyz: {'value': float(xyz.get('value'))}\n",
    "list(map(lambda ele: {'value': float(ele.get('value'))}, my_dict))\n",
    "# list(map(lambda ele: 1, my_dict))"
   ]
  },
  {
   "cell_type": "code",
   "execution_count": 28,
   "id": "a54b9f87-465b-4686-b511-68421d6a74fd",
   "metadata": {},
   "outputs": [],
   "source": [
    "my_dict2 = list(map(lambda ele: {'value': float(ele.get('value')), 'valueOrig': ele.get('value')}, my_dict))"
   ]
  },
  {
   "cell_type": "code",
   "execution_count": 31,
   "id": "c5ba67c8-51a1-4858-9fa6-0999f14a9bf4",
   "metadata": {},
   "outputs": [
    {
     "data": {
      "text/plain": [
       "[{'value': 11.0, 'valueOrig': '11'},\n",
       " {'value': 2.0, 'valueOrig': '2'},\n",
       " {'value': 1000.0, 'valueOrig': '1000'},\n",
       " {'value': 52.0, 'valueOrig': '52'}]"
      ]
     },
     "execution_count": 31,
     "metadata": {},
     "output_type": "execute_result"
    }
   ],
   "source": [
    "my_dict2"
   ]
  },
  {
   "cell_type": "code",
   "execution_count": 30,
   "id": "86d4dd85-bc2d-48b0-9589-078ac8480d1e",
   "metadata": {},
   "outputs": [
    {
     "data": {
      "text/plain": [
       "[{'value': 2.0, 'valueOrig': '2'},\n",
       " {'value': 11.0, 'valueOrig': '11'},\n",
       " {'value': 52.0, 'valueOrig': '52'},\n",
       " {'value': 1000.0, 'valueOrig': '1000'}]"
      ]
     },
     "execution_count": 30,
     "metadata": {},
     "output_type": "execute_result"
    }
   ],
   "source": [
    "sorted(my_dict2, key=lambda ele: ele.get('value'))"
   ]
  },
  {
   "cell_type": "code",
   "execution_count": 32,
   "id": "bffe20e5-0f95-4e80-91d5-38e051515dd4",
   "metadata": {},
   "outputs": [
    {
     "data": {
      "text/plain": [
       "[{'value': 1000.0, 'valueOrig': '1000'},\n",
       " {'value': 11.0, 'valueOrig': '11'},\n",
       " {'value': 2.0, 'valueOrig': '2'},\n",
       " {'value': 52.0, 'valueOrig': '52'}]"
      ]
     },
     "execution_count": 32,
     "metadata": {},
     "output_type": "execute_result"
    }
   ],
   "source": [
    "sorted(my_dict2, key=lambda ele: ele.get('valueOrig'))"
   ]
  },
  {
   "cell_type": "code",
   "execution_count": 34,
   "id": "21f03de5-c5eb-4fe3-96db-674c5cc928de",
   "metadata": {},
   "outputs": [
    {
     "data": {
      "text/plain": [
       "['2', '5', '11', '1000', '3000']"
      ]
     },
     "execution_count": 34,
     "metadata": {},
     "output_type": "execute_result"
    }
   ],
   "source": [
    "x = ['11', '1000', '5', '2', '3000']\n",
    "sorted(x, key=lambda ele: float(ele))"
   ]
  },
  {
   "cell_type": "code",
   "execution_count": 39,
   "id": "8cba3d5c-1b2b-450b-844f-b0e036a156fa",
   "metadata": {},
   "outputs": [
    {
     "data": {
      "text/plain": [
       "{1970: False,\n",
       " 1971: False,\n",
       " 1972: True,\n",
       " 1973: False,\n",
       " 1974: False,\n",
       " 1975: False,\n",
       " 1976: True,\n",
       " 1977: False,\n",
       " 1978: False,\n",
       " 1979: False,\n",
       " 1980: True,\n",
       " 1981: False,\n",
       " 1982: False,\n",
       " 1983: False,\n",
       " 1984: True,\n",
       " 1985: False,\n",
       " 1986: False,\n",
       " 1987: False,\n",
       " 1988: True,\n",
       " 1989: False,\n",
       " 1990: False,\n",
       " 1991: False,\n",
       " 1992: True,\n",
       " 1993: False,\n",
       " 1994: False,\n",
       " 1995: False,\n",
       " 1996: True,\n",
       " 1997: False,\n",
       " 1998: False,\n",
       " 1999: False,\n",
       " 2000: True}"
      ]
     },
     "execution_count": 39,
     "metadata": {},
     "output_type": "execute_result"
    }
   ],
   "source": [
    "{year: year % 4 == 0 for year in range(1970, 2001)}"
   ]
  },
  {
   "cell_type": "code",
   "execution_count": 44,
   "id": "cd41559c-fe3f-482e-ab01-04377977c9a9",
   "metadata": {},
   "outputs": [
    {
     "data": {
      "text/plain": [
       "[1972, 1976, 1980, 1984, 1988, 1992, 1996, 2000]"
      ]
     },
     "execution_count": 44,
     "metadata": {},
     "output_type": "execute_result"
    }
   ],
   "source": [
    "# filter(func, sequence)\n",
    "list(filter(lambda ele: ele % 4 == 0, range(1970, 2001)))"
   ]
  },
  {
   "cell_type": "code",
   "execution_count": 46,
   "id": "f382e203-9941-4ea3-8e32-fba341885b55",
   "metadata": {},
   "outputs": [
    {
     "name": "stdout",
     "output_type": "stream",
     "text": [
      "[('abc', 3), ('efg', 1), ('hij', 2)]\n",
      "[('efg', 1), ('hij', 2), ('abc', 3)]\n"
     ]
    }
   ],
   "source": [
    "x = (\n",
    "    ('efg', 1), \n",
    "    ('abc', 3), \n",
    "    ('hij', 2)\n",
    ")\n",
    "\n",
    "print(sorted(x)) # does work\n",
    "\n",
    "print(sorted(x, key=lambda ele: ele[1]))"
   ]
  },
  {
   "cell_type": "code",
   "execution_count": 47,
   "id": "222b7980-8463-4b19-b5c3-c54ba3531e46",
   "metadata": {},
   "outputs": [
    {
     "data": {
      "text/plain": [
       "[{'username': 'doe', 'grade': 35},\n",
       " {'username': 'john', 'grade': 50},\n",
       " {'username': 'jane', 'grade': 80},\n",
       " {'grade': 89, 'username': 'Kelly'}]"
      ]
     },
     "execution_count": 47,
     "metadata": {},
     "output_type": "execute_result"
    }
   ],
   "source": [
    "students = [\n",
    "    {'username': 'john', 'grade': 50},\n",
    "    {'username': 'jane', 'grade': 80},\n",
    "    {'username': 'doe', 'grade': 35},\n",
    "    {'grade': 89, 'username': 'Kelly'}\n",
    "]\n",
    "\n",
    "sorted(students, key=lambda ele: ele.get('grade'))"
   ]
  },
  {
   "cell_type": "code",
   "execution_count": 48,
   "id": "d563cfb8-0466-49ab-b3fb-606a5c2fd7d4",
   "metadata": {},
   "outputs": [
    {
     "data": {
      "text/plain": [
       "[{'grade': 89, 'username': 'Kelly'},\n",
       " {'username': 'jane', 'grade': 80},\n",
       " {'username': 'john', 'grade': 50},\n",
       " {'username': 'doe', 'grade': 35}]"
      ]
     },
     "execution_count": 48,
     "metadata": {},
     "output_type": "execute_result"
    }
   ],
   "source": [
    "sorted(students, key=lambda ele: ele.get('grade'), reverse=True)"
   ]
  },
  {
   "cell_type": "code",
   "execution_count": 53,
   "id": "8768cb8a-56dd-46ed-bf35-9b3b841e37e6",
   "metadata": {},
   "outputs": [
    {
     "data": {
      "text/plain": [
       "['doe', 'john', 'Janette']"
      ]
     },
     "execution_count": 53,
     "metadata": {},
     "output_type": "execute_result"
    }
   ],
   "source": [
    "students = ['john', 'Janette', 'doe']\n",
    "x = lambda ele: len(ele)\n",
    "sorted(students, key=x) # len(ele)\n",
    "sorted(students, key=len) # len(ele)"
   ]
  },
  {
   "cell_type": "code",
   "execution_count": 54,
   "id": "cb45780d-159d-45e8-a817-e0340ec2de62",
   "metadata": {},
   "outputs": [
    {
     "data": {
      "text/plain": [
       "[-1, 2, 3, 4, -8, -9]"
      ]
     },
     "execution_count": 54,
     "metadata": {},
     "output_type": "execute_result"
    }
   ],
   "source": [
    "x = [-1, -9, -8, 2, 3, 4]\n",
    "sorted(students, key=abs)"
   ]
  },
  {
   "cell_type": "code",
   "execution_count": 60,
   "id": "d38e3d65-948c-41a6-8c26-62a08977b59e",
   "metadata": {},
   "outputs": [
    {
     "data": {
      "text/plain": [
       "[-9, -8, -1, 2, 3, 4]"
      ]
     },
     "execution_count": 60,
     "metadata": {},
     "output_type": "execute_result"
    }
   ],
   "source": [
    "x = [-1, -9, -8, 2, 3, 4]\n",
    "sorted(x)"
   ]
  },
  {
   "cell_type": "code",
   "execution_count": 57,
   "id": "902798f4-5c21-4566-99a9-3d1c0506b7b7",
   "metadata": {},
   "outputs": [
    {
     "ename": "TypeError",
     "evalue": "'<' not supported between instances of 'dict' and 'dict'",
     "output_type": "error",
     "traceback": [
      "\u001b[1;31m---------------------------------------------------------------------------\u001b[0m",
      "\u001b[1;31mTypeError\u001b[0m                                 Traceback (most recent call last)",
      "Cell \u001b[1;32mIn[57], line 7\u001b[0m\n\u001b[0;32m      1\u001b[0m students \u001b[38;5;241m=\u001b[39m [\n\u001b[0;32m      2\u001b[0m     {\u001b[38;5;124m'\u001b[39m\u001b[38;5;124musername\u001b[39m\u001b[38;5;124m'\u001b[39m: \u001b[38;5;124m'\u001b[39m\u001b[38;5;124mjohn\u001b[39m\u001b[38;5;124m'\u001b[39m, \u001b[38;5;124m'\u001b[39m\u001b[38;5;124mgrade\u001b[39m\u001b[38;5;124m'\u001b[39m: \u001b[38;5;241m50\u001b[39m},\n\u001b[0;32m      3\u001b[0m     {\u001b[38;5;124m'\u001b[39m\u001b[38;5;124musername\u001b[39m\u001b[38;5;124m'\u001b[39m: \u001b[38;5;124m'\u001b[39m\u001b[38;5;124mjane\u001b[39m\u001b[38;5;124m'\u001b[39m, \u001b[38;5;124m'\u001b[39m\u001b[38;5;124mgrade\u001b[39m\u001b[38;5;124m'\u001b[39m: \u001b[38;5;241m80\u001b[39m},\n\u001b[0;32m      4\u001b[0m     {\u001b[38;5;124m'\u001b[39m\u001b[38;5;124musername\u001b[39m\u001b[38;5;124m'\u001b[39m: \u001b[38;5;124m'\u001b[39m\u001b[38;5;124mdoe\u001b[39m\u001b[38;5;124m'\u001b[39m, \u001b[38;5;124m'\u001b[39m\u001b[38;5;124mgrade\u001b[39m\u001b[38;5;124m'\u001b[39m: \u001b[38;5;241m35\u001b[39m},\n\u001b[0;32m      5\u001b[0m     {\u001b[38;5;124m'\u001b[39m\u001b[38;5;124mgrade\u001b[39m\u001b[38;5;124m'\u001b[39m: \u001b[38;5;241m89\u001b[39m, \u001b[38;5;124m'\u001b[39m\u001b[38;5;124musername\u001b[39m\u001b[38;5;124m'\u001b[39m: \u001b[38;5;124m'\u001b[39m\u001b[38;5;124mKelly\u001b[39m\u001b[38;5;124m'\u001b[39m}\n\u001b[0;32m      6\u001b[0m ]\n\u001b[1;32m----> 7\u001b[0m \u001b[38;5;28;43msorted\u001b[39;49m\u001b[43m(\u001b[49m\u001b[43mstudents\u001b[49m\u001b[43m)\u001b[49m\n",
      "\u001b[1;31mTypeError\u001b[0m: '<' not supported between instances of 'dict' and 'dict'"
     ]
    }
   ],
   "source": [
    "students = [\n",
    "    {'username': 'john', 'grade': 50},\n",
    "    {'username': 'jane', 'grade': 80},\n",
    "    {'username': 'doe', 'grade': 35},\n",
    "    {'grade': 89, 'username': 'Kelly'}\n",
    "]\n",
    "sorted(students)"
   ]
  },
  {
   "cell_type": "code",
   "execution_count": 75,
   "id": "04cd112b-0e7a-4c59-81e6-1eb401e384b1",
   "metadata": {},
   "outputs": [
    {
     "name": "stdout",
     "output_type": "stream",
     "text": [
      "[(1, 'a', 3.5), (2, 'A', 90), (2, 'G', 39), (2, 'G', 90), (2, 'y', 93), (3, 'Z', 90)]\n",
      "[(1, 'a', 3.5), (2, 'A', 90), (2, 'G', 90), (2, 'G', 39), (2, 'y', 93), (3, 'Z', 90)]\n",
      "[(1, 'a', 3.5), (2, 'A', 90), (2, 'G', 39), (2, 'G', 90), (2, 'y', 93), (3, 'Z', 90)]\n"
     ]
    }
   ],
   "source": [
    "x = (\n",
    "    (2, 'y', 93),\n",
    "    (1, 'a', 3.5), \n",
    "    (2, 'G', 90),\n",
    "    (3, 'Z', 90),\n",
    "    \n",
    "    (2, 'A', 90),\n",
    "    \n",
    "    (2, 'G', 39),\n",
    ")\n",
    "print(sorted(x))\n",
    "print(sorted(x, key=lambda ele: (ele[0], ele[1])))\n",
    "print(sorted(x, key=lambda ele: (ele[0], ele[1], ele[2])))\n"
   ]
  },
  {
   "cell_type": "code",
   "execution_count": 76,
   "id": "d34cea46-9e46-43b5-9de3-a9ef8697c84f",
   "metadata": {},
   "outputs": [
    {
     "data": {
      "text/plain": [
       "[(1, 'a', 3.5),\n",
       " (2, 'A', 90),\n",
       " (2, 'G'),\n",
       " (2, 'G', 39),\n",
       " (2, 'y', 93),\n",
       " (3, 'Z', 90)]"
      ]
     },
     "execution_count": 76,
     "metadata": {},
     "output_type": "execute_result"
    }
   ],
   "source": [
    "x = (\n",
    "    (2, 'y', 93),\n",
    "    (1, 'a', 3.5), \n",
    "    (2, 'G',),\n",
    "    (3, 'Z', 90),\n",
    "    \n",
    "    (2, 'A', 90),\n",
    "    \n",
    "    (2, 'G', 39),\n",
    ")\n",
    "sorted(x)"
   ]
  }
 ],
 "metadata": {
  "kernelspec": {
   "display_name": "Python 3 (ipykernel)",
   "language": "python",
   "name": "python3"
  },
  "language_info": {
   "codemirror_mode": {
    "name": "ipython",
    "version": 3
   },
   "file_extension": ".py",
   "mimetype": "text/x-python",
   "name": "python",
   "nbconvert_exporter": "python",
   "pygments_lexer": "ipython3",
   "version": "3.9.18"
  }
 },
 "nbformat": 4,
 "nbformat_minor": 5
}
